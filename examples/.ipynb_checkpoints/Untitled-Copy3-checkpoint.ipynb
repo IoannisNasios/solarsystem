{
 "cells": [
  {
   "cell_type": "code",
   "execution_count": 1,
   "metadata": {},
   "outputs": [],
   "source": [
    "import pandas as pd\n",
    "import numpy as np\n",
    "import matplotlib.pyplot as plt\n",
    "# import math\n",
    "\n",
    "import solarsystem\n",
    "# import planetview\n",
    "# from libraries.planetview import solarsystem"
   ]
  },
  {
   "cell_type": "code",
   "execution_count": 2,
   "metadata": {},
   "outputs": [],
   "source": [
    "#date time\n",
    "year = 2020\n",
    "month=1\n",
    "day=9\n",
    "hour=15\n",
    "minute=28\n",
    "\n",
    "#Greece time zone: Universal Time +2, no daylight saving time (dst) on January\n",
    "UT=2\n",
    "dst=0\n",
    "\n",
    "\n",
    "# planet position output be in horizontal coordinates (longitude, latitude, distance from sun in AU)\n",
    "view='horizontal'"
   ]
  },
  {
   "cell_type": "code",
   "execution_count": 3,
   "metadata": {},
   "outputs": [],
   "source": [
    "H = solarsystem.Heliocentric(year=year, month=month, day=day, hour=hour, minute=minute, \n",
    "                         UT=UT, dst=dst, view=view )"
   ]
  },
  {
   "cell_type": "code",
   "execution_count": 4,
   "metadata": {},
   "outputs": [
    {
     "name": "stdout",
     "output_type": "stream",
     "text": [
      "Mercury (286.66509263117086, -5.95514002249412, 0.4519419295649282)\n",
      "Venus (18.071259625954433, -2.9043664211433637, 0.7252784896243919)\n",
      "Earth (71.25498035282925, 0.0, 0.9833727119863873)\n",
      "Mars (218.26918443956836, 0.36705185817173164, 1.5800638311918977)\n",
      "Jupyter (276.76827063918563, 0.08872877515610847, 5.225188313212643)\n",
      "Saturn (292.75693035702903, 0.04078305711979947, 10.051296667504662)\n",
      "Uranus (35.439089783049994, 359.516888954875, 19.808306374179313)\n",
      "Neptune (348.0662424708255, -1.041120136871914, 29.91475637087701)\n",
      "Pluto (292.7904210250021, 359.31664727106187, 33.882102177843414)\n",
      "Ceres (292.3936845626764, -5.646090740132422, 2.924807644626452)\n",
      "Chiron (4.403503406679704, 2.935042210653287, 18.81174011525796)\n",
      "Eris (23.552900327487386, -11.73994819295701, 95.99658598775275)\n"
     ]
    }
   ],
   "source": [
    "planets=H.planets()\n",
    "for key in planets:\n",
    "    print(key, planets[key])"
   ]
  },
  {
   "cell_type": "code",
   "execution_count": 5,
   "metadata": {},
   "outputs": [
    {
     "data": {
      "text/plain": [
       "{'Mercury': (0.12890708173130994, -0.4306226955198791, -0.046888869485000526),\n",
       " 'Venus': (0.688615888982099, 0.22469210770751058, -0.03674917260550287),\n",
       " 'Earth': (0.3160138556085197, -0.9312127220688621, 0),\n",
       " 'Mars': (-1.2404978184041353, -0.9786032973146379, 0.01012223593469248),\n",
       " 'Jupyter': (0.615808939132875, -5.188767366364283, 0.008091771813236583),\n",
       " 'Saturn': (3.88806678027721, -9.268842981917734, 0.00715449855098403),\n",
       " 'Uranus': (16.13789518436564, 11.485183716486867, -0.16701925136339607),\n",
       " 'Neptune': (29.263386610085558, -6.184772093463044, -0.5435503560045157),\n",
       " 'Pluto': (13.123687095095622, -31.234634511972136, -0.4040939536313074),\n",
       " 'Ceres': (1.1088537390939974, -2.691122725292904, -0.2877527076756887),\n",
       " 'Chiron': (18.731605097818715, 1.4424706100852103, 0.9632316244902227),\n",
       " 'Eris': (86.15841647965199, 37.55737210431492, -19.532424110715656)}"
      ]
     },
     "execution_count": 5,
     "metadata": {},
     "output_type": "execute_result"
    }
   ],
   "source": [
    "Hr = solarsystem.Heliocentric(year=year, month=month, day=day, hour=hour, minute=minute, \n",
    "                         UT=UT, dst=dst, view='rectangular' )\n",
    "Hr.planets()"
   ]
  },
  {
   "cell_type": "code",
   "execution_count": null,
   "metadata": {},
   "outputs": [],
   "source": []
  },
  {
   "cell_type": "code",
   "execution_count": 6,
   "metadata": {},
   "outputs": [],
   "source": [
    "# Athens Greece Coordinates\n",
    "longtitude=23.73\n",
    "latitude=37.98\n",
    "\n",
    "s=solarsystem.Sunriseset(year=year, month=month, day=day, \n",
    "                         UT=UT, dst=dst, longtitude=longtitude, latitude=latitude)"
   ]
  },
  {
   "cell_type": "code",
   "execution_count": 7,
   "metadata": {},
   "outputs": [
    {
     "data": {
      "text/plain": [
       "(6.919303971972364, 18.14573314741831)"
      ]
     },
     "execution_count": 7,
     "metadata": {},
     "output_type": "execute_result"
    }
   ],
   "source": [
    "s.riseset()"
   ]
  },
  {
   "cell_type": "code",
   "execution_count": 8,
   "metadata": {},
   "outputs": [
    {
     "data": {
      "text/plain": [
       "'06:54:39'"
      ]
     },
     "execution_count": 8,
     "metadata": {},
     "output_type": "execute_result"
    }
   ],
   "source": [
    "\n",
    "solarsystem.demical2clock(6.910969320793688)"
   ]
  },
  {
   "cell_type": "code",
   "execution_count": null,
   "metadata": {},
   "outputs": [],
   "source": []
  },
  {
   "cell_type": "code",
   "execution_count": null,
   "metadata": {},
   "outputs": [],
   "source": []
  },
  {
   "cell_type": "code",
   "execution_count": 9,
   "metadata": {},
   "outputs": [],
   "source": [
    "# h1 = solarsystem.Heliocentric(year=year, month=month, day=day, hour=hour, minute=minute, \n",
    "#                          UT=UT, dst=dst, longtitude=longtitude, latitude=latitude, view='spherical' )\n",
    "# p1=h1.planets()\n",
    "# v1,v2,v3=p1[0]\n",
    "# print(v1,v2,v3)\n",
    "# vv1,vv2,vv3 = solarsystem.spherical2rectangular(v1,v2,v3)\n",
    "# # vvv1,vvv2,vvv3 = solarsystem.ecliptic2equetorial(vv1,vv2,vv3, 23.4)\n",
    "# vvv1,vvv2,vvv3 = solarsystem.ecliptic2equetorial(vv1,vv2,vv3, h.oblecl)\n",
    "# # vvv1,vvv2,vvv3 = solarsystem.ecliptic2equetorial(vv1,vv2,vv3, math.radians(6))\n",
    "\n",
    "# print(vvv1,vvv2,vvv3)\n",
    "# vvvv1,vvvv2,vvvv3 = solarsystem.rectangular2spherical(vvv1,vvv2,vvv3)\n",
    "# vvvv1,vvvv2,vvvv3"
   ]
  },
  {
   "cell_type": "code",
   "execution_count": 10,
   "metadata": {},
   "outputs": [],
   "source": [
    "# h1 = solarsystem.Heliocentric(year=year, month=month, day=day, hour=hour, minute=minute, \n",
    "#                          UT=UT, dst=dst, longtitude=longtitude, latitude=latitude, view='spherical' )\n",
    "# p1=h1.planets()\n",
    "# forplot=[]\n",
    "# for i in range(12):\n",
    "#     v1,v2,v3=p1[i]\n",
    "# #     print(v1,v2,v3)\n",
    "#     vv1,vv2,vv3 = solarsystem.spherical2rectangular(v1,v2,v3)\n",
    "#     # vvv1,vvv2,vvv3 = solarsystem.ecliptic2equetorial(vv1,vv2,vv3, 23.4)\n",
    "#     vvv1,vvv2,vvv3 = solarsystem.ecliptic2equetorial(vv1,vv2,vv3, h.oblecl)\n",
    "#     forplot.append(  solarsystem.rectangular2spherical(vvv1,vvv2,vvv3) )"
   ]
  },
  {
   "cell_type": "code",
   "execution_count": null,
   "metadata": {},
   "outputs": [],
   "source": []
  },
  {
   "cell_type": "code",
   "execution_count": 11,
   "metadata": {},
   "outputs": [],
   "source": [
    "# plt.figure(figsize=(12,12))\n",
    "# for i in range(11):\n",
    "#     plt.polar(math.radians(forplot[i][0]),(forplot[i][2]),'.') \n",
    "# plt.show()"
   ]
  },
  {
   "cell_type": "code",
   "execution_count": 12,
   "metadata": {},
   "outputs": [],
   "source": [
    "# h1 = solarsystem.Heliocentric(year=year, month=month, day=day, hour=hour, minute=minute, \n",
    "#                          UT=UT, dst=dst, longtitude=longtitude, latitude=latitude, view='spherical' )\n",
    "# p1=h1.planets()\n",
    "# forplot=[]\n",
    "# for i in range(12):\n",
    "#     v1,v2,v3=p1[i]\n",
    "# #     print(v1,v2,v3)\n",
    "#     vv1,vv2,vv3 = solarsystem.spherical2rectangular(v1,v2,v3)\n",
    "#     forplot.append(   (vv1,vv2,vv3) )\n",
    "# #     vvv1,vvv2,vvv3 = solarsystem.ecliptic2equetorial(vv1,vv2,vv3, h.oblecl)\n",
    "# #     forplot.append(   (vvv1,vvv2,vvv3) )"
   ]
  },
  {
   "cell_type": "code",
   "execution_count": null,
   "metadata": {},
   "outputs": [],
   "source": []
  },
  {
   "cell_type": "code",
   "execution_count": 13,
   "metadata": {},
   "outputs": [],
   "source": [
    "# forplot"
   ]
  },
  {
   "cell_type": "code",
   "execution_count": 14,
   "metadata": {},
   "outputs": [],
   "source": [
    "# plt.figure(figsize=(10,10))\n",
    "# ax = plt.gca()\n",
    "# ax.cla() # clear things for fresh plot\n",
    "# ax.set_xlim((-32, 32))\n",
    "# ax.set_ylim((-32, 32))\n",
    "\n",
    "# ax.plot(0,0,'.', label='Sun') \n",
    "# for i in range(11):\n",
    "#     ax.plot(forplot[i][0],forplot[i][1],'.', markersize=10, label=h1.planetnames()[i]) \n",
    "# # plt.pat.Circle((0,0), radius=1.1, color='r') \n",
    "# ax.add_artist(plt.Circle((0, 0), 1, color='r', fill=False))\n",
    "# ax.add_artist(plt.Circle((0, 0), 2, color='r', fill=False))\n",
    "# ax.add_artist(plt.Circle((0, 0), 4, color='r', fill=False))\n",
    "# ax.add_artist(plt.Circle((0, 0), 8, color='r', fill=False))\n",
    "# ax.add_artist(plt.Circle((0, 0), 16, color='r', fill=False))\n",
    "# ax.add_artist(plt.Circle((0, 0), 32, color='r', fill=False))\n",
    "# ax.legend()\n",
    "# plt.show()"
   ]
  },
  {
   "cell_type": "code",
   "execution_count": 15,
   "metadata": {},
   "outputs": [],
   "source": [
    "# forplot"
   ]
  },
  {
   "cell_type": "code",
   "execution_count": 16,
   "metadata": {},
   "outputs": [],
   "source": [
    "# p1[1]"
   ]
  },
  {
   "cell_type": "code",
   "execution_count": 17,
   "metadata": {},
   "outputs": [],
   "source": [
    "# 280.4//15, 280.4%15, (280.46%15)*4#//60\n"
   ]
  },
  {
   "cell_type": "code",
   "execution_count": 18,
   "metadata": {},
   "outputs": [
    {
     "data": {
      "text/plain": [
       "'18.0h 41m 51s'"
      ]
     },
     "execution_count": 18,
     "metadata": {},
     "output_type": "execute_result"
    }
   ],
   "source": [
    "\n",
    "solarsystem.degrees2hours(280.4661661948482)\n",
    "    "
   ]
  },
  {
   "cell_type": "code",
   "execution_count": 19,
   "metadata": {},
   "outputs": [],
   "source": [
    "#      Right                   Distance    From 47°N 7°E:\n",
    "#             Ascension    Declination      (AU)   Altitude Azimuth\n",
    "# Sun         19h 11m 49s   -22° 24.6'     0.983    18.451  -18.725 Up\n",
    "# Mercury     19h  4m 20s   -24° 22.7'     1.437    16.919  -16.506 Up\n",
    "# Venus       21h 40m 54s   -15° 44.7'     1.241     9.429  -54.450 Up\n",
    "# Moon         4h 11m 52s   +18°  6.0'   61.4 ER   -20.894 -153.763 Set\n",
    "# Mars        16h  2m 52s   -20° 24.6'     2.138    18.017   27.566 Up\n",
    "# Jupiter     18h 35m 27s   -23°  6.4'     6.196    19.297   -9.882 Up\n",
    "# Saturn      19h 35m 40s   -21° 34.3'    11.012    17.757  -24.564 Up\n",
    "# Uranus       2h  2m 30s   +11° 55.9'    19.523   -11.622 -122.009 Set\n",
    "# Neptune     23h 11m 32s    -6° 18.6'    30.415     2.699  -77.767 Up\n",
    "# Pluto       19h 36m 54s   -22° 14.3'    34.933    17.036  -24.636 Up"
   ]
  },
  {
   "cell_type": "code",
   "execution_count": 20,
   "metadata": {},
   "outputs": [
    {
     "data": {
      "text/plain": [
       "['Mercury',\n",
       " 'Venus',\n",
       " 'Earth',\n",
       " 'Mars',\n",
       " 'Jupyter',\n",
       " 'Saturn',\n",
       " 'Uranus',\n",
       " 'Neptune',\n",
       " 'Pluto',\n",
       " 'Ceres',\n",
       " 'Chiron',\n",
       " 'Eris']"
      ]
     },
     "execution_count": 20,
     "metadata": {},
     "output_type": "execute_result"
    }
   ],
   "source": [
    "H.planetnames()"
   ]
  },
  {
   "cell_type": "code",
   "execution_count": 21,
   "metadata": {},
   "outputs": [],
   "source": [
    "# g = solarsystem.Planetcentic(year=1978, month=6, day=29, hour=15, minute=15, \n",
    "#                          UT=2, dst=1, longtitude=23.73, latitude=37.98, planetoncenter='Earth')"
   ]
  },
  {
   "cell_type": "code",
   "execution_count": 22,
   "metadata": {},
   "outputs": [],
   "source": [
    "# g.position()"
   ]
  },
  {
   "cell_type": "code",
   "execution_count": 23,
   "metadata": {},
   "outputs": [],
   "source": [
    "# e.planets"
   ]
  },
  {
   "cell_type": "code",
   "execution_count": 24,
   "metadata": {},
   "outputs": [],
   "source": [
    "# g.objectnames()"
   ]
  },
  {
   "cell_type": "code",
   "execution_count": 25,
   "metadata": {},
   "outputs": [],
   "source": [
    "# math.degrees(h.oblecl)"
   ]
  },
  {
   "cell_type": "code",
   "execution_count": 26,
   "metadata": {},
   "outputs": [],
   "source": [
    "e = solarsystem.Geocentic(year=year, month=month, day=day, hour=hour, minute=minute, \n",
    "                         UT=UT, dst=dst)\n",
    "#                           , longtitude=longtitude, latitude=latitude)"
   ]
  },
  {
   "cell_type": "code",
   "execution_count": 27,
   "metadata": {},
   "outputs": [
    {
     "data": {
      "text/plain": [
       "[(0.12890708173130994, -0.4306226955198791, -0.046888869485000526),\n",
       " (0.688615888982099, 0.22469210770751058, -0.03674917260550287),\n",
       " (0.3160138556085197, -0.9312127220688621, 0),\n",
       " (-1.2404978184041353, -0.9786032973146379, 0.01012223593469248),\n",
       " (0.615808939132875, -5.188767366364283, 0.008091771813236583),\n",
       " (3.88806678027721, -9.268842981917734, 0.00715449855098403),\n",
       " (16.13789518436564, 11.485183716486867, -0.16701925136339607),\n",
       " (29.263386610085558, -6.184772093463044, -0.5435503560045157),\n",
       " (13.123687095095622, -31.234634511972136, -0.4040939536313074),\n",
       " (1.1088537390939974, -2.691122725292904, -0.2877527076756887),\n",
       " (18.731605097818715, 1.4424706100852103, 0.9632316244902227),\n",
       " (86.15841647965199, 37.55737210431492, -19.532424110715656)]"
      ]
     },
     "execution_count": 27,
     "metadata": {},
     "output_type": "execute_result"
    }
   ],
   "source": [
    "360-75.35\n",
    "e.planets"
   ]
  },
  {
   "cell_type": "code",
   "execution_count": 28,
   "metadata": {},
   "outputs": [
    {
     "data": {
      "text/plain": [
       "{'Sun': (288.74501964717075, 0.0, 0.9833727119863872),\n",
       " 'Mercury': (288.0925688416572, -1.8745217926376618, 1.4334395387193821),\n",
       " 'Venus': (324.88263379327543, -1.713858057716623, 1.2287403321780166),\n",
       " 'Mars': (244.1697849458505, 0.2733315580491183, 2.1218318229823114),\n",
       " 'Jupyter': (278.65731334668993, 0.07489268125147043, 6.190518191588561),\n",
       " 'Saturn': (292.3996209405481, 0.03715599981900477, 11.032473953937457),\n",
       " 'Uranus': (32.677182577224926, -0.4895309730809345, 19.54853758921843),\n",
       " 'Neptune': (346.4732654777311, -1.0235514126822196, 30.42817146649296),\n",
       " 'Pluto': (292.6764004422985, -0.6641246955789732, 34.86302599963724),\n",
       " 'Ceres': (291.4724959262727, -4.227894040904763, 3.903122259988994),\n",
       " 'Chiron': (1.5375091094851085, 2.8939215576066157, 19.078809910092335),\n",
       " 'Eris': (22.955038653564284, -11.749344089801285, 95.9208957659507)}"
      ]
     },
     "execution_count": 28,
     "metadata": {},
     "output_type": "execute_result"
    }
   ],
   "source": [
    "e.position()"
   ]
  },
  {
   "cell_type": "code",
   "execution_count": 29,
   "metadata": {},
   "outputs": [
    {
     "data": {
      "text/plain": [
       "12"
      ]
     },
     "execution_count": 29,
     "metadata": {},
     "output_type": "execute_result"
    }
   ],
   "source": [
    "len(e.position())"
   ]
  },
  {
   "cell_type": "code",
   "execution_count": 30,
   "metadata": {},
   "outputs": [
    {
     "data": {
      "text/plain": [
       "(278.65731334668993, 0.07489268125147043, 6.190518191588561)"
      ]
     },
     "execution_count": 30,
     "metadata": {},
     "output_type": "execute_result"
    }
   ],
   "source": [
    "e.position()['Jupyter']"
   ]
  },
  {
   "cell_type": "code",
   "execution_count": 31,
   "metadata": {},
   "outputs": [],
   "source": [
    "# v1,v2,v3=e.position()[1]\n",
    "# vv1,vv2,vv3 = solarsystem.spherical2rectangular(v1,v2,v3)\n",
    "# vv1,vv2,vv3\n"
   ]
  },
  {
   "cell_type": "code",
   "execution_count": null,
   "metadata": {},
   "outputs": [],
   "source": []
  },
  {
   "cell_type": "code",
   "execution_count": 32,
   "metadata": {},
   "outputs": [],
   "source": [
    "# vvv1,vvv2,vvv3 = solarsystem.ecliptic2equetorial(vv1,vv2,vv3, 23.4)\n",
    "# vvv1,vvv2,vvv3 = solarsystem.ecliptic2equetorial(vv1,vv2,vv3, h.oblecl)\n",
    "# vvv1,vvv2,vvv3"
   ]
  },
  {
   "cell_type": "code",
   "execution_count": 33,
   "metadata": {},
   "outputs": [],
   "source": [
    "# vvvv1,vvvv2,vvvv3 = solarsystem.rectangular2spherical(vvv1,vvv2,vvv3)\n",
    "# vvvv1,vvvv2,vvvv3"
   ]
  },
  {
   "cell_type": "code",
   "execution_count": 34,
   "metadata": {},
   "outputs": [
    {
     "data": {
      "text/plain": [
       "{'Sun': (290.2980077307292, -22.125643234955707, 0.9833727119863871),\n",
       " 'Mercury': (289.87385999906826, -24.071711697848578, 1.4334395387193821),\n",
       " 'Venus': (327.76052098603896, -14.840962514786954, 1.2287403321780166),\n",
       " 'Mars': (242.23827044640882, -20.708672570439543, 2.1218318229823114),\n",
       " 'Jupyter': (279.41706346192575, -23.0792682644625, 6.190518191588561),\n",
       " 'Saturn': (294.1842216601565, -21.53877293398823, 11.032473953937457),\n",
       " 'Uranus': (30.648694434225867, 11.940317535859878, 19.54853758921843),\n",
       " 'Neptune': (347.9528759645946, -6.281005531579755, 30.428171466492955),\n",
       " 'Pluto': (294.6025176231545, -22.18506295069138, 34.86302599963724),\n",
       " 'Ceres': (293.9419999625787, -25.897617322451932, 3.903122259988994),\n",
       " 'Chiron': (0.2585914867866016, 3.266482587831239, 19.078809910092335),\n",
       " 'Eris': (25.568542758820684, -2.003516650960703, 95.9208957659507)}"
      ]
     },
     "execution_count": 34,
     "metadata": {},
     "output_type": "execute_result"
    }
   ],
   "source": [
    "e2 = solarsystem.Geocentic(year=year, month=month, day=day, hour=hour, minute=minute, \n",
    "                         UT=UT, dst=dst, plane='equatorial')\n",
    "e2p=e2.position()\n",
    "e2p"
   ]
  },
  {
   "cell_type": "code",
   "execution_count": null,
   "metadata": {},
   "outputs": [],
   "source": []
  },
  {
   "cell_type": "code",
   "execution_count": 35,
   "metadata": {},
   "outputs": [
    {
     "data": {
      "text/plain": [
       "\"-24° 21.8'\""
      ]
     },
     "execution_count": 35,
     "metadata": {},
     "output_type": "execute_result"
    }
   ],
   "source": [
    "def demical2arcs(num):\n",
    "    return(str(int(num))+u\"\\u00b0 \"+str(round(abs(num - int(num))*60,2))+\"'\")\n",
    "demical2arcs(-24.363369862556816)"
   ]
  },
  {
   "cell_type": "code",
   "execution_count": 36,
   "metadata": {},
   "outputs": [
    {
     "data": {
      "text/plain": [
       "{'Sun': (290.2980077307292, -22.125643234955707, 0.9833727119863871),\n",
       " 'Mercury': (289.87385999906826, -24.071711697848578, 1.4334395387193821),\n",
       " 'Venus': (327.76052098603896, -14.840962514786954, 1.2287403321780166),\n",
       " 'Mars': (242.23827044640882, -20.708672570439543, 2.1218318229823114),\n",
       " 'Jupyter': (279.41706346192575, -23.0792682644625, 6.190518191588561),\n",
       " 'Saturn': (294.1842216601565, -21.53877293398823, 11.032473953937457),\n",
       " 'Uranus': (30.648694434225867, 11.940317535859878, 19.54853758921843),\n",
       " 'Neptune': (347.9528759645946, -6.281005531579755, 30.428171466492955),\n",
       " 'Pluto': (294.6025176231545, -22.18506295069138, 34.86302599963724),\n",
       " 'Ceres': (293.9419999625787, -25.897617322451932, 3.903122259988994),\n",
       " 'Chiron': (0.2585914867866016, 3.266482587831239, 19.078809910092335),\n",
       " 'Eris': (25.568542758820684, -2.003516650960703, 95.9208957659507)}"
      ]
     },
     "execution_count": 36,
     "metadata": {},
     "output_type": "execute_result"
    }
   ],
   "source": [
    "e2p"
   ]
  },
  {
   "cell_type": "code",
   "execution_count": 37,
   "metadata": {},
   "outputs": [
    {
     "name": "stdout",
     "output_type": "stream",
     "text": [
      "Right Ascension Declination \t Distace in AU\n",
      "Sun 19.0h 21m 11s \t -22° 7.54' \t 0.9833727119863871\n",
      "Mercury 19.0h 19m 29s \t -24° 4.3' \t 1.4334395387193821\n",
      "Venus 21.0h 51m 2s \t -14° 50.46' \t 1.2287403321780166\n",
      "Mars 16.0h 8m 57s \t -20° 42.52' \t 2.1218318229823114\n",
      "Jupyter 18.0h 37m 40s \t -23° 4.76' \t 6.190518191588561\n",
      "Saturn 19.0h 36m 44s \t -21° 32.33' \t 11.032473953937457\n",
      "Uranus 2.0h 2m 35s \t 11° 56.42' \t 19.54853758921843\n",
      "Neptune 23.0h 11m 48s \t -6° 16.86' \t 30.428171466492955\n",
      "Pluto 19.0h 38m 24s \t -22° 11.1' \t 34.86302599963724\n",
      "Ceres 19.0h 35m 46s \t -25° 53.86' \t 3.903122259988994\n",
      "Chiron 0.0h 1m 2s \t 3° 15.99' \t 19.078809910092335\n",
      "Eris 1.0h 42m 16s \t -2° 0.21' \t 95.9208957659507\n"
     ]
    }
   ],
   "source": [
    "# print('Right Ascension','\\t','Declination','\\t','Distace in AU')\n",
    "print('Right Ascension','Declination','\\t','Distace in AU')\n",
    "for ii in e2p:\n",
    "    i=e2p[ii]\n",
    "    print(ii,solarsystem.degrees2hours(i[0]),'\\t',demical2arcs(i[1]),'\\t',i[2])"
   ]
  },
  {
   "cell_type": "code",
   "execution_count": 38,
   "metadata": {},
   "outputs": [],
   "source": [
    "# e2p[1]"
   ]
  },
  {
   "cell_type": "code",
   "execution_count": 39,
   "metadata": {},
   "outputs": [],
   "source": [
    "# Sun         19h 20m 22s   -22°  9.1'     0.983    14.255  -32.554 Up\n",
    "# Mercury     19h 18m 12s   -24°  6.1'     1.434    12.657  -31.295 Up\n",
    "# Venus       21h 50m 11s   -14° 55.1'     1.230     1.054  -66.593 Up\n",
    "# Moon         6h  1m 33s   +22° 41.5'   59.9 ER   -19.079  165.790 Set\n",
    "# Mars        16h  8m 23s   -20° 40.9'     2.123    21.194   13.773 Up\n",
    "# Jupiter     18h 37m 24s   -23°  4.9'     6.190    16.769  -22.555 Up\n",
    "# Saturn      19h 36m 39s   -21° 32.2'    11.014    13.243  -36.356 Up\n",
    "# Uranus       2h  2m 29s   +11° 55.9'    19.555   -18.601 -132.902 Set\n",
    "# Neptune     23h 11m 42s    -6° 17.5'    30.444    -6.028  -87.228 Set\n",
    "# Pluto       19h 37m 11s   -22° 13.8'    34.937    12.566  -36.160 Up"
   ]
  },
  {
   "cell_type": "code",
   "execution_count": 40,
   "metadata": {},
   "outputs": [],
   "source": [
    "#      Right                   Distance    From 47°N 7°E:\n",
    "#             Ascension    Declination      (AU)   Altitude Azimuth\n",
    "# Sun         19h 11m 49s   -22° 24.6'     0.983    18.451  -18.725 Up\n",
    "# Mercury     19h  4m 20s   -24° 22.7'     1.437    16.919  -16.506 Up\n",
    "# Venus       21h 40m 54s   -15° 44.7'     1.241     9.429  -54.450 Up\n",
    "# Moon         4h 11m 52s   +18°  6.0'   61.4 ER   -20.894 -153.763 Set\n",
    "# Mars        16h  2m 52s   -20° 24.6'     2.138    18.017   27.566 Up\n",
    "# Jupiter     18h 35m 27s   -23°  6.4'     6.196    19.297   -9.882 Up\n",
    "# Saturn      19h 35m 40s   -21° 34.3'    11.012    17.757  -24.564 Up\n",
    "# Uranus       2h  2m 30s   +11° 55.9'    19.523   -11.622 -122.009 Set\n",
    "# Neptune     23h 11m 32s    -6° 18.6'    30.415     2.699  -77.767 Up\n",
    "# Pluto       19h 36m 54s   -22° 14.3'    34.933    17.036  -24.636 Up"
   ]
  },
  {
   "cell_type": "code",
   "execution_count": 41,
   "metadata": {},
   "outputs": [
    {
     "data": {
      "text/plain": [
       "24.350000000000023"
      ]
     },
     "execution_count": 41,
     "metadata": {},
     "output_type": "execute_result"
    }
   ],
   "source": [
    "360-335.65"
   ]
  },
  {
   "cell_type": "code",
   "execution_count": 42,
   "metadata": {},
   "outputs": [
    {
     "data": {
      "image/png": "[encoded data removed]",
      "text/plain": [
       "<Figure size 432x288 with 1 Axes>"
      ]
     },
     "metadata": {
      "needs_background": "light"
     },
     "output_type": "display_data"
    }
   ],
   "source": [
    "import math\n",
    "plt.polar(math.radians(268),1.43,'ro') \n",
    "plt.polar(math.radians(32),19.5,'o') \n",
    "plt.show()"
   ]
  },
  {
   "cell_type": "code",
   "execution_count": 43,
   "metadata": {},
   "outputs": [
    {
     "data": {
      "text/plain": [
       "{'Sun': (288.74501964717075, 0.0, 0.9833727119863872),\n",
       " 'Mercury': (288.0925688416572, -1.8745217926376618, 1.4334395387193821),\n",
       " 'Venus': (324.88263379327543, -1.713858057716623, 1.2287403321780166),\n",
       " 'Mars': (244.1697849458505, 0.2733315580491183, 2.1218318229823114),\n",
       " 'Jupyter': (278.65731334668993, 0.07489268125147043, 6.190518191588561),\n",
       " 'Saturn': (292.3996209405481, 0.03715599981900477, 11.032473953937457),\n",
       " 'Uranus': (32.677182577224926, -0.4895309730809345, 19.54853758921843),\n",
       " 'Neptune': (346.4732654777311, -1.0235514126822196, 30.42817146649296),\n",
       " 'Pluto': (292.6764004422985, -0.6641246955789732, 34.86302599963724),\n",
       " 'Ceres': (291.4724959262727, -4.227894040904763, 3.903122259988994),\n",
       " 'Chiron': (1.5375091094851085, 2.8939215576066157, 19.078809910092335),\n",
       " 'Eris': (22.955038653564284, -11.749344089801285, 95.9208957659507)}"
      ]
     },
     "execution_count": 43,
     "metadata": {},
     "output_type": "execute_result"
    }
   ],
   "source": [
    "e.position()"
   ]
  },
  {
   "cell_type": "code",
   "execution_count": 44,
   "metadata": {},
   "outputs": [
    {
     "data": {
      "text/plain": [
       "'18.0h 58m 34s'"
      ]
     },
     "execution_count": 44,
     "metadata": {},
     "output_type": "execute_result"
    }
   ],
   "source": [
    "solarsystem.degrees2hours(284.64182031820445)"
   ]
  },
  {
   "cell_type": "code",
   "execution_count": 45,
   "metadata": {},
   "outputs": [
    {
     "data": {
      "text/plain": [
       "(0.36318763458948605, -1.3901383519540325, -0.04401750006008)"
      ]
     },
     "execution_count": 45,
     "metadata": {},
     "output_type": "execute_result"
    }
   ],
   "source": [
    "solarsystem.spherical2rectangular(284.64182031820445, 358.2452456436462, 1.437472586105112)"
   ]
  },
  {
   "cell_type": "code",
   "execution_count": 46,
   "metadata": {},
   "outputs": [
    {
     "data": {
      "text/plain": [
       "(0.36318763458948605, 0.26758463363692053, -1.3648518753793055)"
      ]
     },
     "execution_count": 46,
     "metadata": {},
     "output_type": "execute_result"
    }
   ],
   "source": [
    "solarsystem.equetorial2ecliptic(0.36318763458948605, -1.3901383519540325, -0.04401750006008, 23.4)\n",
    "# solarsystem.ecliptic2equetorial(0.36318763458948605, -1.3901383519540325, -0.04401750006008, 23.4)"
   ]
  },
  {
   "cell_type": "code",
   "execution_count": 47,
   "metadata": {},
   "outputs": [
    {
     "data": {
      "text/plain": [
       "(36.381559636291115, -71.71000293419789, 1.4374725861051119)"
      ]
     },
     "execution_count": 47,
     "metadata": {},
     "output_type": "execute_result"
    }
   ],
   "source": [
    "solarsystem.rectangular2spherical(0.36318763458948605, 0.26758463363692053, -1.3648518753793055)\n",
    "# solarsystem.rectangular2spherical(0.36318763458948605, 0.18070152235918144, 1.3790464595879597)\n"
   ]
  },
  {
   "cell_type": "code",
   "execution_count": 48,
   "metadata": {},
   "outputs": [],
   "source": [
    "# def rectangular2spherical(x, y, z):\n",
    "#     \"\"\"\n",
    "#     from rectangular(x,y,z) coordinates to spherical(RA,Decl)   or\n",
    "#     from horizontal (azimuth,altitude) coordinates to ecliptic (long, lat)  \n",
    "#     \"\"\"\n",
    "    \n",
    "#     r    = math.sqrt( x*x + y*y + z*z )\n",
    "#     RA   = math.atan2( y, x )\n",
    "# #    Decl = math.asin( z / r ) \n",
    "#     Decl = math.atan2( z, math.sqrt( x*x + y*y ) )\n",
    "    \n",
    "#     RA = math.degrees(RA)\n",
    "#     Decl = math.degrees(Decl)\n",
    "#     return (RA, Decl, r)\n",
    "# rectangular2spherical(0.33347351292747607, -0.3576145806395149, -1.3517524417191005)"
   ]
  },
  {
   "cell_type": "code",
   "execution_count": 49,
   "metadata": {},
   "outputs": [
    {
     "data": {
      "text/plain": [
       "293.43765869454796"
      ]
     },
     "execution_count": 49,
     "metadata": {},
     "output_type": "execute_result"
    }
   ],
   "source": [
    "solarsystem.normalize(-66.56234130545207)"
   ]
  },
  {
   "cell_type": "code",
   "execution_count": null,
   "metadata": {},
   "outputs": [],
   "source": []
  },
  {
   "cell_type": "code",
   "execution_count": null,
   "metadata": {},
   "outputs": [],
   "source": []
  },
  {
   "cell_type": "code",
   "execution_count": 50,
   "metadata": {},
   "outputs": [],
   "source": [
    "# helios2.eclipti2orthogonal(x_geoc, y_geoc, z_geoc, oblecl)"
   ]
  },
  {
   "cell_type": "code",
   "execution_count": 51,
   "metadata": {},
   "outputs": [],
   "source": [
    "m = solarsystem.Moon(year=1978, month=6, day=29, hour=15, minute=15, \n",
    "                         UT=2, dst=1, longtitude=23.73, latitude=37.98)"
   ]
  },
  {
   "cell_type": "code",
   "execution_count": 52,
   "metadata": {},
   "outputs": [],
   "source": [
    "m = solarsystem.Moon(year=year, month=month, day=day, hour=hour, minute=minute, \n",
    "                         UT=UT, dst=dst, longtitude=longtitude, latitude=latitude, topographic=True)"
   ]
  },
  {
   "cell_type": "code",
   "execution_count": 53,
   "metadata": {},
   "outputs": [
    {
     "data": {
      "text/plain": [
       "0.979854446774101"
      ]
     },
     "execution_count": 53,
     "metadata": {},
     "output_type": "execute_result"
    }
   ],
   "source": [
    "m.phase()"
   ]
  },
  {
   "cell_type": "code",
   "execution_count": 54,
   "metadata": {},
   "outputs": [
    {
     "data": {
      "text/plain": [
       "(92.57908530774982, -0.7804445224902888, 59.13912609915065)"
      ]
     },
     "execution_count": 54,
     "metadata": {},
     "output_type": "execute_result"
    }
   ],
   "source": [
    "a=m.position()\n",
    "a"
   ]
  },
  {
   "cell_type": "code",
   "execution_count": 55,
   "metadata": {},
   "outputs": [],
   "source": [
    "# b=solarsystem.spherical2rectangular(a[0],a[1],a[2])\n",
    "# print(b)\n",
    "# c=solarsystem.ecliptic2equetorial(b[0],b[1],b[2], (m.oblecl))\n",
    "# print(c)\n",
    "# solarsystem.rectangular2spherical(c[0],c[1],c[2])"
   ]
  },
  {
   "cell_type": "code",
   "execution_count": 56,
   "metadata": {},
   "outputs": [],
   "source": [
    "# # def spherical_ecliptic2equetorial(long,lat,distance,oblecl):\n",
    "# #     b=solarsystem.spherical2rectangular(long,lat,distance)\n",
    "# #     c=solarsystem.ecliptic2equetorial(b[0],b[1],b[2], oblecl)\n",
    "# #     return solarsystem.rectangular2spherical(c[0],c[1],c[2])\n",
    "# solarsystem.spherical_ecliptic2equetorial(92.6986027096564, -0.5250923027032938, 59.139126099150644, m.oblecl)"
   ]
  },
  {
   "cell_type": "code",
   "execution_count": 57,
   "metadata": {},
   "outputs": [],
   "source": [
    "# # def spherical_equetorial2ecliptic(RA, Decl,distance,oblecl):\n",
    "# #     b=solarsystem.spherical2rectangular(RA, Decl,distance)\n",
    "# #     c=solarsystem.equetorial2ecliptic(b[0],b[1],b[2], oblecl)\n",
    "# #     return solarsystem.rectangular2spherical(c[0],c[1],c[2])\n",
    "# solarsystem.spherical_equetorial2ecliptic(92.92921747572905, 22.884168894466512, 59.139126099150644, m.oblecl)"
   ]
  },
  {
   "cell_type": "code",
   "execution_count": 58,
   "metadata": {},
   "outputs": [],
   "source": [
    "#  6h 14m 21s   +22° 55.3'   59.8 ER    -1.596 -126.953 Set"
   ]
  },
  {
   "cell_type": "code",
   "execution_count": 59,
   "metadata": {},
   "outputs": [],
   "source": [
    "# solarsystem.Geocentic"
   ]
  },
  {
   "cell_type": "code",
   "execution_count": 60,
   "metadata": {},
   "outputs": [
    {
     "data": {
      "text/plain": [
       "7314.561111111194"
      ]
     },
     "execution_count": 60,
     "metadata": {},
     "output_type": "execute_result"
    }
   ],
   "source": [
    "m.d\n",
    "# -7854.489583333023"
   ]
  },
  {
   "cell_type": "code",
   "execution_count": 61,
   "metadata": {},
   "outputs": [
    {
     "data": {
      "text/plain": [
       "0.979854446774101"
      ]
     },
     "execution_count": 61,
     "metadata": {},
     "output_type": "execute_result"
    }
   ],
   "source": [
    "m.phase()"
   ]
  },
  {
   "cell_type": "code",
   "execution_count": 62,
   "metadata": {},
   "outputs": [
    {
     "data": {
      "text/plain": [
       "(15.879643338845867, 6.431544986609445)"
      ]
     },
     "execution_count": 62,
     "metadata": {},
     "output_type": "execute_result"
    }
   ],
   "source": [
    "m.moonriseset()"
   ]
  },
  {
   "cell_type": "code",
   "execution_count": null,
   "metadata": {},
   "outputs": [],
   "source": []
  },
  {
   "cell_type": "code",
   "execution_count": null,
   "metadata": {},
   "outputs": [],
   "source": []
  },
  {
   "cell_type": "code",
   "execution_count": 117,
   "metadata": {},
   "outputs": [
    {
     "ename": "NameError",
     "evalue": "name 'helios2' is not defined",
     "output_type": "error",
     "traceback": [
      "\u001b[0;31m---------------------------------------------------------------------------\u001b[0m",
      "\u001b[0;31mNameError\u001b[0m                                 Traceback (most recent call last)",
      "\u001b[0;32m<ipython-input-117-0008efcd907e>\u001b[0m in \u001b[0;36m<module>\u001b[0;34m\u001b[0m\n\u001b[0;32m----> 1\u001b[0;31m s = helios2.Sunriseset(year=1978, month=6, day=29, hour=15, minute=15, \n\u001b[0m\u001b[1;32m      2\u001b[0m                          UT=2, dst=1, longtitude=23.73, latitude=37.98)\n",
      "\u001b[0;31mNameError\u001b[0m: name 'helios2' is not defined"
     ]
    }
   ],
   "source": [
    "s = helios2.Sunriseset(year=1978, month=6, day=29, hour=15, minute=15, \n",
    "                         UT=2, dst=1, longtitude=23.73, latitude=37.98)"
   ]
  },
  {
   "cell_type": "code",
   "execution_count": null,
   "metadata": {},
   "outputs": [],
   "source": [
    "s.riseset()"
   ]
  },
  {
   "cell_type": "code",
   "execution_count": null,
   "metadata": {},
   "outputs": [],
   "source": []
  },
  {
   "cell_type": "code",
   "execution_count": null,
   "metadata": {},
   "outputs": [],
   "source": []
  },
  {
   "cell_type": "code",
   "execution_count": null,
   "metadata": {},
   "outputs": [],
   "source": []
  },
  {
   "cell_type": "code",
   "execution_count": null,
   "metadata": {},
   "outputs": [],
   "source": []
  },
  {
   "cell_type": "code",
   "execution_count": null,
   "metadata": {},
   "outputs": [],
   "source": [
    "def normalize(moires):  # metatropi gonion se 0-360 euros \n",
    "    if (moires < 0): moires = (moires - ((int)(moires/360.) -1 )*360)\n",
    "    else: moires=(moires - ((int)(moires/360))*360)   \n",
    "    return moires   \n",
    "\n",
    "def normalize(moires):  \n",
    "    # metatropi gonion se 0-360 euros \n",
    "    return moires % 360"
   ]
  },
  {
   "cell_type": "code",
   "execution_count": null,
   "metadata": {},
   "outputs": [],
   "source": [
    "UT=-2 #if (!isset(UT)) : UT=-2   else : UT=UT * zone0  #prepei na to valo -2\n",
    "'''\n",
    "xronia=int(input('Year of Birth B (xxxx)\\n'))\n",
    "minas=int(input('Month of Birth B (1 - 12)\\n'))\n",
    "imera=int(input('Day of Birth B (1 - 31)\\n'))\n",
    "ora=int(input('Hour of Birth B (00 - 24). 12 if not known\\n'))\n",
    "lepta=int(input('Minute of Birth B (00 - 60). 0 if not known\\n'))\n",
    "'''\n",
    "onoma='Nasios Ioannis'\n",
    "xronia=1978\n",
    "minas=6\n",
    "imera=29\n",
    "ora=15\n",
    "lepta=15\n",
    "'''\n",
    "xronia=1985\n",
    "minas=3\n",
    "imera=5\n",
    "ora=2\n",
    "lepta=45\n",
    "\n",
    "#\n",
    "xronia=1958\n",
    "minas=6\n",
    "imera=7\n",
    "ora=17\n",
    "lepta=00\n",
    "#pr=0\n",
    "\n",
    "xronia=1975\n",
    "minas=5\n",
    "imera=25\n",
    "ora=12\n",
    "lepta=00\n",
    "'''\n",
    "sitime=0\n",
    "\n",
    "#pigi therinon oron timeanddate.com\n",
    "if (xronia == 1952) : #gia to1952 i therini ora isxise apo 1/7 stis 01:00 eos 1/11 stis 23:00 \n",
    "    minamera = (minas * 100 + imera)\n",
    "    if ((minamera >700)and(minamera < 1100)) : sitime=(sitime + 1)  \n",
    "\t\n",
    "if (xronia == 1975) : #gia to1975 i therini ora isxise apo 12/4 stis 01:00 eos 26/11 stis 01:00 \n",
    "    minamera = (minas * 100 + imera)\n",
    "    if ((minamera >411)and(minamera < 1127)) : sitime=(sitime + 1)  \n",
    "\t\n",
    "if (xronia == 1976) : #gia to1976 i therini ora isxise apo 11/4 stis 02:00 eos 10/10 stis 03:00 \n",
    "    minamera = (minas * 100 + imera)\n",
    "    if ((minamera >410)and(minamera < 1011)) : sitime=(sitime + 1)  \n",
    "\t\n",
    "if (xronia == 1977) : #gia to1977 i therini ora isxise apo 3/4 stis 02:00 eos 26/9 stis 03:00 \n",
    "    minamera = (minas * 100 + imera)\n",
    "    if ((minamera >402)and(minamera < 927)) : sitime=(sitime + 1)  \n",
    "\t\n",
    "if (xronia == 1978) : #gia to1978 i therini ora isxise apo 2/4 stis 02:00 eos 27/9 stis 04:00 \n",
    "    minamera = (minas * 100 + imera)\n",
    "    if ((minamera >401)and(minamera < 925)) : sitime=(sitime + 1)  \n",
    "\t\n",
    "if (xronia == 1979) : #gia to1979 i therini ora isxise apo 1/4 stis 09:00 eos 29/9 stis 01:00 \n",
    "    minamera = (minas * 100 + imera)\n",
    "    if ((minamera >400)and(minamera < 930)) : sitime=(sitime + 1)  \n",
    "\t\n",
    "if (xronia == 1980) : #gia to1980 i therini ora isxise apo 1/4 stis 00:00 eos 27/9 stis 23:59 \n",
    "    minamera = (minas * 100 + imera)\n",
    "    if ((minamera >400)and(minamera < 928)) : sitime=(sitime + 1)  \n",
    "\n",
    "#mktime=['']\n",
    "import datetime\n",
    "\n",
    "if (xronia > 1980) : \n",
    "    sitime=0 #apo to 81 os to 96 i therini ora isxiei apo tin teleutaia kiriaki tou martiou os tin teleutai kiriaki tou septemvriou\n",
    "    sumtime1= datetime.datetime(xronia, 3, 31, 0, 0, 0)\n",
    "    sumtime2= datetime.datetime(xronia, 9, 30, 0, 0, 0)\n",
    "    smt1=sumtime1.timetuple()\n",
    "    smt2=sumtime2.timetuple()\n",
    "    days_before1 = smt1.tm_wday + 1\n",
    "    days_before2 = smt2.tm_wday + 1\n",
    "    if (days_before1==7):\n",
    "        days_before1=0\n",
    "    if (days_before2==7):\n",
    "        days_before2=0\n",
    "    summer_time_begins=(31 - days_before1 + 300)#to 300 antistixoi sto minas=3 *100\n",
    "    summer_time_ends=(30 - days_before2 +900)\n",
    "    minamera = (minas * 100 + imera) \n",
    "    if ((minamera > summer_time_begins)and( minamera < summer_time_ends)):\n",
    "        sitime=(sitime + 1) \n",
    "    if ((minamera == summer_time_begins)and(ora > 2)):\n",
    "        sitime=(sitime + 1) \n",
    "    if ((minamera == summer_time_ends)and(ora < 4)):\n",
    "        sitime=(sitime + 1) \n",
    "\n",
    "if (xronia > 1995) : \n",
    "    sitime=0 #apo to 96 kai meta i therini ora isxiei apo tin teleutaia kiriaki tou martiou os tin teleutai kiriaki tou Oktovriou\n",
    "    sumtime1= datetime.datetime(xronia, 3, 31, 0, 0, 0)\n",
    "    sumtime2= datetime.datetime(xronia, 10, 30, 0, 0, 0)\n",
    "    smt1=sumtime1.timetuple()\n",
    "    smt2=sumtime2.timetuple()\n",
    "    days_before1 = smt1.tm_wday + 1\n",
    "    days_before2 = smt2.tm_wday + 1\n",
    "    if (days_before1==7):\n",
    "        days_before1=0\n",
    "    if (days_before2==7):\n",
    "        days_before2=0\n",
    "    summer_time_begins=(31 - days_before1 + 300)#to 300 antistixoi sto minas=3 *100\n",
    "    summer_time_ends=(31 - days_before2 +1000)\n",
    "    minamera = (minas * 100 + imera) \n",
    "    if ((minamera > summer_time_begins)and( minamera < summer_time_ends)):\n",
    "        sitime=(sitime + 1) \n",
    "    if ((minamera == summer_time_begins)and(ora > 2)):\n",
    "        sitime=(sitime + 1) \n",
    "    if ((minamera == summer_time_ends)and(ora < 4)):\n",
    "        sitime=(sitime + 1)\n",
    "\n",
    "pr=0\n",
    "if (sitime==1) : pr=1/24. \n",
    "\n",
    "longtitude=23.73\n",
    "latitude=37.98\n",
    "    \n",
    "JDN=  (367*(xronia) - math.floor(7*(xronia + math.floor((minas+9 )/12))/4)) + math.floor(275*(minas)/9) + (imera + 1721013.5 + UT/24. ) #apo 1900 eos 2099      \n",
    "JD= (JDN + (ora)/24. + lepta/1440. - pr)\n",
    "\n",
    "#\techo (round(JD, 2) .'<br>') \n",
    "#JD=2443689.01###\n",
    "#j2000= 2451543.5\n",
    "j2000= 2451543.5\n",
    "#\techo (j2000.'<br>')     \n",
    "#dokimastiki imerominia gia d -->19/04/1990\n",
    "#d=(( 367*(1990) - math.floor(7*(1990 + math.floor((4+9 )/12))/4)) + math.floor(275*(4)/9) + (19 + 1721013.5 + UT/24 ) - j2000 )\n",
    "d= JD - j2000\n",
    "#\techo (d.'<br><br>')  "
   ]
  },
  {
   "cell_type": "code",
   "execution_count": null,
   "metadata": {},
   "outputs": [],
   "source": [
    "d"
   ]
  },
  {
   "cell_type": "code",
   "execution_count": null,
   "metadata": {},
   "outputs": [],
   "source": [
    "#troxiaka stoixia gia ton Ilio\n",
    "w=282.9404 + 4.70935E-5 * d      \n",
    "a=1\n",
    "e=(0.016709 - (1.151E-9  * d))   \n",
    "M=356.047 + 0.9856002585 * d   \n",
    "M=normalize(M)\n",
    "L=w+M   \n",
    "L=normalize(L)\n",
    "oblecl=23.4393 - 3.563E-7 * d\n",
    "M2=M\n",
    "M=math.radians(M)\n",
    "E=M2 + (180/math.pi)*e*math.sin(M)*(1+e*math.cos(M))\n",
    "E=math.radians(E)\n",
    "x=math.cos(E)-e #orthogonies math.sintetagmenes sto epipedo tis ekleiptikis opou to x deixnei pros to periilio\n",
    "y=math.sin(E)*math.sqrt(1-e*e)\n",
    "\n",
    "r=math.sqrt(x*x + y*y) #r=apostasi\n",
    "v=math.atan2(y,x)  #v=alithini anomalia\n",
    "v=math.degrees(v)\n",
    "lon=(v+w)    # geografiko mikos iliou\n",
    "lon=normalize((lon))\n",
    "lon=math.radians(lon) \n",
    "x2=r * math.cos(lon) #ekleiptikes orthogonies math.sintetagmenes\n",
    "y2=r * math.sin(lon)\n",
    "z2=0\n",
    "#xrisimopoioume to oblecl gia na metatrepsoume autes tis math.sintetagmenes   \n",
    "xequat = x2   \n",
    "oblecl= math.radians(oblecl)\n",
    "yequat = (y2*math.cos(oblecl) + z2 * math.sin(oblecl))\n",
    "zequat = (y2*math.sin(oblecl) + z2 * math.cos(oblecl))\n",
    "\n",
    "#r = math.sqrt( xequat*xequat + yequat*yequat + zequat*zequat )\n",
    "RA=math.atan2(yequat, xequat)\n",
    "RA=math.degrees(RA)\n",
    "RA=normalize(RA)\n",
    "Decl=math.atan2(zequat, math.sqrt(xequat*xequat +yequat*yequat))\n",
    "Decl=math.degrees(Decl)\n",
    "#RA2=RA/15\n",
    "\n",
    "\n",
    "#Astrikos xronos-gonia oras-ipsos kai azimouthio\n",
    "#ut=0 #prepeina  to valo -2\n",
    "gmsto=L/15 + 12 \n",
    "\n",
    "sidtime=(-sitime + gmsto + UT + longtitude/15)\n",
    "\n",
    "HA=(sidtime*15 - RA) #HA=gonia oras\n",
    "HA=math.radians(HA)\n",
    "Decl=math.radians(Decl)\n",
    "\n",
    "x3=math.cos(HA)*math.cos(Decl)#orthogonio sistima sintetagmenon \n",
    "y3=math.sin(HA)*math.cos(Decl)\n",
    "z3=math.sin(Decl)\n",
    "\n",
    "\n",
    "latitude=math.radians(latitude)\n",
    "xhor=(x3*math.sin(latitude) - z3*math.cos(latitude))\n",
    "yhor=y3\n",
    "zhor=(x3*math.cos(latitude) + z3*math.sin(latitude))\n",
    "azim=math.atan2(yhor, xhor) #sfairikes math.sintetagmenes r=1\n",
    "azim=math.degrees(azim)\n",
    "azimuth=azim + 180 \n",
    "altitude=math.asin(zhor)\n",
    "altitude=math.degrees(altitude)\n"
   ]
  },
  {
   "cell_type": "code",
   "execution_count": null,
   "metadata": {},
   "outputs": [],
   "source": [
    "#upologismos anatolis disis iliou\n",
    "#summer time ...apo tin teleutaia kiraki tou martio os tin teleutai kiriaki tou Oktovriou prosthetoume mia ora sto sidtime\n",
    "#euresi teleutaias kiriakis martiou\n",
    "#stime = 31 - round(( ((5 * 2011 / 4 + 4) / 7) - (int)((5 * 2011 / 4 + 4) / 7) )* 7)\n",
    "asidtime = sidtime \n",
    "T_sun=normalize((RA - sidtime*15))/15 \n",
    "h=math.radians(-0.833)\n",
    "adi=(math.sin(h) -math.sin(latitude)*math.sin(Decl))/(math.cos(latitude)*math.cos(Decl))\n",
    "Lha=math.acos(adi)\n",
    "Lha= (math.degrees(Lha))/15\n",
    "anatoli=T_sun - Lha  \n",
    "disi=T_sun + Lha\n"
   ]
  },
  {
   "cell_type": "code",
   "execution_count": null,
   "metadata": {},
   "outputs": [],
   "source": [
    "anatoli"
   ]
  },
  {
   "cell_type": "code",
   "execution_count": null,
   "metadata": {},
   "outputs": [],
   "source": [
    "#moons position\n",
    "Ns=125.1228 - 0.0529538083*d\n",
    "is_=5.1454\n",
    "ws=318.0634 + 0.1643573223*d\n",
    "as_=60.2666 #giini isimerini aktina\n",
    "es=0.054900\n",
    "Ms=115.3654 + 13.0649929509*d\n",
    "Ns=normalize(Ns)\n",
    "ws=normalize(ws)\n",
    "Ms=normalize(Ms)\n",
    "\n",
    "\n",
    "Ms2=math.radians(Ms)\n",
    "E0=Ms + (180/math.pi)*es*math.sin(Ms2)*(1+es*math.cos(Ms2))\n",
    "E0=normalize(E0) \n",
    "E02=math.radians(E0)\n",
    "E1=E0 - (E0 - (180/math.pi)*es*math.sin(E02)-Ms)/(1-es*math.cos(E02))\n",
    "E1=normalize(E1) \n",
    "\n",
    "E=math.radians(E1)\n",
    "xs=as_*(math.cos(E)-es)\n",
    "ys=as_*(math.sqrt(1 - es*es))*math.sin(E)\n",
    "rs=math.sqrt(xs*xs+ys*ys)\n",
    "vs=math.atan2(ys, xs)\n",
    "vs=normalize(math.degrees(vs))\n",
    "#gia na upologisoume tin thesi tis selinis se ekleiptikes math.sintetagmenes\n",
    "xseclip=rs*(math.cos(math.radians(Ns))*math.cos(math.radians(vs+ws)) - math.sin(math.radians(Ns))*math.sin(math.radians(vs+ws))*math.cos(math.radians(is_)))\n",
    "yseclip=rs*(math.sin(math.radians(Ns))*math.cos(math.radians(vs+ws)) + math.cos(math.radians(Ns))*math.sin(math.radians(vs+ws))*math.cos(math.radians(is_)))\n",
    "zseclip=rs*math.sin(math.radians(vs+ws))*math.sin(math.radians(is_)) \n",
    "\n",
    "long2 = math.atan2( yseclip, xseclip )\n",
    "long2=normalize(math.degrees(long2))\n",
    "lat2 = math.atan2( zseclip, math.sqrt( xseclip*xseclip +yseclip*yseclip ) )\n",
    "lat2=math.degrees(lat2)\n",
    "  \n",
    "#diataraxes selinis \n",
    "#sun' s mean longtitude\n",
    "Ls=Ns+ws+Ms #moon' s mean longtitude\n",
    "Ls=normalize(Ls)\n",
    "M=math.degrees(M)\n",
    "# sun' s mean anomaly\n",
    "#moon' s mean anomally\n",
    "Ds=Ls-L  #moon' s mean elogation\n",
    "Ds=normalize(Ds)\n",
    "Fs=Ls-Ns #moon' s argument of latitude\n",
    "Fs=normalize(Fs)\n",
    "#ipologismos Diataraxon\n",
    "#diataraxes sto geogr. mikos\n",
    "D1=-1.274*math.sin(math.radians(Ms- 2*Ds)) #evection\n",
    "D2=0.658*math.sin(math.radians(2*Ds)) #variation\n",
    "D3=-0.186*math.sin(math.radians(M))\n",
    "D4=-0.059*math.sin(math.radians(2*Ms- 2*Ds))\n",
    "D5=-0.057*math.sin(math.radians(Ms - 2*Ds + M))\n",
    "D6=0.053*math.sin(math.radians(Ms + 2*Ds))\n",
    "D7=0.046*math.sin(math.radians(2*Ds - M))\n",
    "D8=0.041*math.sin(math.radians(Ms - M))\n",
    "D9=-0.035*math.sin(math.radians(Ds)) #parallactic equation\n",
    "D10=-0.031*math.sin(math.radians(Ms + M))\n",
    "D11=-0.015*math.sin(math.radians(2*Fs - 2*Ds))\n",
    "D12=0.011*math.sin(math.radians(Ms - 4*Ds))\n",
    "#diataraxes sto geogr. platos\n",
    "D13=-0.173*math.sin(math.radians(Fs - 2*Ds))\n",
    "D14=-0.055*math.sin(math.radians(Ms - Fs - 2*Ds))\n",
    "D15=-0.046*math.sin(math.radians(Ms + Fs - 2*Ds))\n",
    "D16=0.033*math.sin(math.radians(Fs + 2*Ds))\n",
    "D17=0.017*math.sin(math.radians(2*Ms + Fs))\n",
    "#diataraxes stin seliniaki apostasi se giines aktines\n",
    "D18=-0.58*math.cos(math.radians(Ms - 2*Ds))\n",
    "D19=-0.46*math.cos(math.radians(2*Ds))\n",
    "\n",
    "longdists=D1+D2+D3+D4+D5+D6+D7+D8+D9+D10+D11+D12\n",
    "latdists=D13+D14+D15+D16+D17\n",
    "moondist=D18+D19\n",
    "#prosthetoume tis diataraxes stous proigoumenous ipologisamous\n",
    "long2=long2+longdists\n",
    "lat2=lat2+latdists\n",
    "r_s=rs+moondist\n",
    "long2_s=math.radians(long2)\n",
    "lat2_s=math.radians(lat2)\n",
    "x_s_eclip = math.cos(long2_s) * math.cos(lat2_s)\n",
    "y_s_eclip = math.sin(long2_s) * math.cos(lat2_s)\n",
    "z_s_eclip = math.sin(lat2_s)\n",
    "\n",
    "x_s_equat = x_s_eclip\n",
    "y_s_equat = y_s_eclip * math.cos(oblecl) - z_s_eclip * math.sin(oblecl)\n",
    "z_s_equat = y_s_eclip * math.sin(oblecl) + z_s_eclip * math.cos(oblecl)\n",
    "\n",
    "RA_s = math.atan2(y_s_equat, x_s_equat)\n",
    "RA_s=normalize(math.degrees(RA_s))\n",
    "Decl_s = math.atan2(z_s_equat, math.sqrt(x_s_equat*x_s_equat + y_s_equat*y_s_equat))\n",
    "Decl_s = math.degrees(Decl_s)\n",
    "#r_s = math.sqrt(x_s_equat*x_s_equat + y_s_equat*y_s_equat + z_s_equat*z_s_equat)\n",
    " \n",
    "#H topokentriki thesi tis selinis\n",
    "mpar=math.degrees(math.asin(1/r_s)) \n",
    "###alt_topoc=alt_geoc - mpar*math.cos(alt_geoc)\n",
    "gclat=math.degrees(latitude) - 0.1924*math.sin(2*latitude)\n",
    "rho= 0.99833 + 0.00167*math.cos(2*latitude)\n",
    "HA_s=normalize(sidtime*15 - RA_s)\n",
    "g = math.degrees(math.atan(math.tan(math.radians(gclat))/math.cos(math.radians(HA_s)))) #voithitiki gonia\n",
    "topRA_s = RA_s  - mpar*rho*math.cos(math.radians(gclat))*math.sin(math.radians(HA_s))/math.cos(math.radians(Decl_s))\n",
    "  \n",
    "topDecl_s = Decl_s - mpar*rho*math.sin(math.radians(gclat))*math.sin(math.radians(g - Decl_s))/math.sin(math.radians(g)) \n",
    " \n",
    "#fasi selinis\n",
    "x21=math.cos(math.radians(topRA_s))*math.cos(math.radians(topDecl_s))\n",
    "y21=math.sin(math.radians(topRA_s))*math.cos(math.radians(topDecl_s))\n",
    "z21=math.sin(math.radians(topDecl_s))\n",
    "\n",
    "x221=x21\n",
    "y221=y21*math.cos(-oblecl)-z21*math.sin(-oblecl)\n",
    "z221=y21*math.sin(-oblecl)+z21*math.cos(-oblecl)\n",
    "\n",
    "mlon21=normalize(math.degrees(math.atan2(y221, x221)))\n",
    "mlat21=math.degrees(math.atan2(z221, math.sqrt(x221*x221 + y221*y221)))\n",
    "mlon21=math.radians(mlon21)\n",
    "mlat21=math.radians(mlat21)\n",
    "elong_s=math.degrees(math.acos(math.cos(lon - mlon21)* math.cos(mlat21)))\n",
    "elong_s2=normalize(360- math.degrees(lon) + math.degrees(mlon21))\n",
    "FV21=180 - elong_s\n",
    "phase = (1 + math.cos(math.radians(FV21))) / 2 "
   ]
  },
  {
   "cell_type": "code",
   "execution_count": null,
   "metadata": {},
   "outputs": [],
   "source": [
    "#upologismos anatolis disis selinis\n",
    "aDecl_s=math.radians(topDecl_s)\n",
    "T_s=normalize((topRA_s - sidtime*15))/15.04107 \n",
    "#mesouranima selinis\n",
    "h=math.radians(0) #anti -0.583 pou einai gia ton ilio\n",
    "adi_s=(math.sin(h) -math.sin(latitude)*math.sin(aDecl_s))/(math.cos(latitude)*math.cos(aDecl_s))\n",
    "Lha_s=math.acos(adi_s)\n",
    "Lha_s= (math.degrees(Lha_s))/15.04107\n",
    "#ores apo to mesouranima os tin anatoli i os tin disi\n",
    "anatoli_s=T_s - Lha_s  \n",
    "if (anatoli_s<0) : anatoli_s=anatoli_s+24 \n",
    "if (anatoli_s > 24) : anatoli_s=anatoli_s - 24 \n",
    "disi_s=T_s + Lha_s\n",
    "if (disi_s < 0) : disi_s=disi_s + 24 \n",
    "if (disi_s > 24) : disi_s=disi_s - 24 \n"
   ]
  },
  {
   "cell_type": "code",
   "execution_count": null,
   "metadata": {},
   "outputs": [],
   "source": [
    " #troxiaka stoixeia planiton\n",
    " #Ermis\n",
    "N_er=48.3313 + 3.24587E-5*d\n",
    "i_er=7.0047 +5.00E-8*d\n",
    "w_er=29.1241 + 1.01444E-5*d\n",
    "a_er=0.387098\n",
    "e_er=0.205635 + 5.59E-10*d\n",
    "M_er=168.6562 + 4.0923344368*d\n",
    "\n",
    "M_er=normalize(M_er)\n",
    "\n",
    " #Afroditi\n",
    "N_af=76.6799 + 2.46590E-5*d\n",
    "i_af=3.3946 +2.75E-8*d\n",
    "w_af=54.8910 + 1.38374E-5*d\n",
    "a_af=0.723330\n",
    "e_af=0.006773 - 1.30E-9*d\n",
    "M_af=48.0052 + 1.6021302244*d\n",
    "\n",
    "M_af=normalize(M_af)\n",
    " \n",
    " #Aris\n",
    "N_ar=49.5574 + 2.11081E-5*d\n",
    "i_ar=1.8497 - 1.78E-8*d\n",
    "w_ar=286.5016 + 2.92961E-5*d\n",
    "a_ar=1.523688\n",
    "e_ar=0.093405 + 2.51E-9*d\n",
    "M_ar=18.6021 + 0.5240207766*d\n",
    "\n",
    "M_ar=normalize(M_ar)\n",
    " \n",
    " #Dias\n",
    "N_di=100.4542 + 2.76854E-5*d\n",
    "i_di=1.3030 - 1.557E-7*d\n",
    "w_di=273.8777 + 1.6450E-5*d\n",
    "a_di=5.20256\n",
    "e_di=0.048498 + 4.469E-9*d\n",
    "M_di=19.8950 + 0.0830853001*d\n",
    "\n",
    "M_di=normalize(M_di)\n",
    "\n",
    " #Kronos\n",
    "N_kr=113.6634 + 2.38980E-5*d\n",
    "i_kr=2.4886 - 1.081E-7*d\n",
    "w_kr=339.3939 + 2.97661E-5*d\n",
    "a_kr=9.55475\n",
    "e_kr=0.055546 - 9.499E-9*d\n",
    "M_kr=316.9670 + 0.0334442282*d\n",
    "\n",
    "M_kr=normalize(M_kr)\n",
    " \n",
    " #Ouranos\n",
    "N_ou=74.0005 + 1.3978E-5*d\n",
    "i_ou=0.7733 + 1.9E-8*d\n",
    "w_ou=96.6612 + 3.0565E-5*d\n",
    "a_ou=19.18171 - 1.55E-8*d\n",
    "e_ou=0.047318 + 7.45E-9*d\n",
    "M_ou=142.5905 + 0.011725806*d\n",
    "\n",
    "M_ou=normalize(M_ou)\n",
    "\n",
    " #Poseidonas\n",
    "N_po=131.7806 + 3.0173E-5*d\n",
    "i_po=1.7700 - 2.55E-7*d\n",
    "w_po=272.8461 - 6.027E-6*d\n",
    "a_po=30.05826 + 3.313E-8*d\n",
    "e_po=0.008606 + 2.15E-9*d\n",
    "M_po=260.2471 + 0.005995147*d\n",
    "\n",
    "M_po=normalize(M_po)\n",
    "   \n",
    "\n",
    "#D CERES epoch 2455400.5 2010-jul-23.0   j2000= 2451543.5\n",
    "ddd=d + 2451543.5 - 2455400.5\n",
    "\n",
    "N_ce=80.39319901972638  + 1.1593E-5*ddd\n",
    "i_ce=10.58682160714853 - 2.2048E-6*ddd\n",
    "w_ce=72.58981198193074  + 1.84E-5*ddd\n",
    "a_ce=2.765348506018043  # 1.5886E-9*ddd   \n",
    "e_ce=0.07913825487621974 + 1.8987E-8*ddd\n",
    "M_ce=113.4104433863731   + 0.21408169952325  * ddd #0.21432781439  * ddd # 1.8468E-10 * ddd #   (0.21... = 78.19deg/year / 365.25)  1.4429E-5*d #113.41044338663731 \n",
    "\n",
    "M_ce=normalize(M_ce)\n",
    "'''\n",
    "#E CERES epoch 2455400.5 2010-jul-23.0   j2000= 2451543.5\n",
    "ddd=d + 2451543.5 - 2455400.5\n",
    "\n",
    "N_ce=80.39319901972638 \t #+ 1.1593E-5*ddd\n",
    "i_ce=10.58682160714853 \t#- 2.2048E-6*ddd\n",
    "w_ce=72.58981198193074 \t# + 1.84E-5*ddd\n",
    "a_ce=2.765348506018043 \t # 1.5886E-9*ddd   \n",
    "e_ce=0.07913825487621974# + 1.8987E-8*ddd\n",
    "M_ce=113.4104433863731 \t  + 0.21408169952 \t * ddd\t#0.21432781439  * ddd # 1.8468E-10 * ddd #   (0.21... = 78.19deg/year / 365.25)  1.4429E-5*d #113.41044338663731 \n",
    "\n",
    "M_ce=normalize(M_ce)\n",
    "'''\n",
    "\n",
    "#A CHIRON epoch  2456400.5 2013-apr-18.0   j2000= 2451543.5\n",
    "dddd=d + 2451543.5 - 2456400.5\n",
    "\n",
    "N_ch=209.3557401732507 \t #+ 9.7985E-5 * dddd\n",
    "i_ch=6.929449422368333 \t# + 8.6178E-6 * dddd\n",
    "w_ch=339.3298742575888 \t# + 9.9254E-5 * dddd\n",
    "a_ch=13.6532230321495 #+ 1.5476E-6 * dddd  \n",
    "e_ch=0.3803659797957286  #+ 1.0919E-7 * dddd\n",
    "M_ch=122.8444574834622  +  0.01953670401251872 * dddd   #0.01953670401251872 3.3214E-9 * ddd     2.6067E-5*d \n",
    "\n",
    "M_ch=normalize(M_ch)\n",
    "\n",
    "'''\n",
    "#B CHIRON epoch  2456400.5 2013-apr-18.0   j2000= 2451543.5\n",
    "dddd=d + 2451543.5 - 2456400.5\n",
    "\n",
    "N_ch=209.3557401732507 \t + 9.7985E-5*dddd\n",
    "i_ch=6.929449422368333 \t  - 8.6178E-6*dddd\n",
    "w_ch=339.3298742575888 \t  + 9.9254E-5*dddd\n",
    "a_ch=13.6532230321495 # 1.5476E-6*dddd  \n",
    "e_ch=0.3803659797957286   + 1.0919E-7*dddd\n",
    "M_ch=122.8444574834622 \t +  0.01953670401251872  * dddd\t#0.01953670401251872 3.3214E-9 * ddd     2.6067E-5*d \n",
    "\n",
    "M_ch=normalize(M_ch)\n",
    "\n",
    "#F CHIRON epoch  2456400.5 2013-apr-18.0   j2000= 2451543.5\n",
    "dddd=d + 2451543.5 - 2456400.5\n",
    "\n",
    "N_ch=209.3557401732507 \t + 9.7985E-5*dddd\n",
    "i_ch=6.929449422368333 \t  - 8.6178E-6*dddd\n",
    "w_ch=339.3298742575888 \t  + 9.9254E-5*dddd\n",
    "a_ch=13.6532230321495 # 1.5476E-6*dddd  \n",
    "e_ch=0.3803659797957286   + 1.0919E-7*dddd\n",
    "M_ch=122.8444574834622 \t +  0.0194185231134  * dddd\t#0.01953670401251872 3.3214E-9 * ddd     2.6067E-5*d \n",
    "\n",
    "M_ch=normalize(M_ch)\n",
    "\n",
    "#G CHIRON epoch  2456400.5 2013-apr-18.0   j2000= 2451543.5\n",
    "dddd=d + 2451543.5 - 2456400.5\n",
    "\n",
    "N_ch=209.3557401732507 \t #+ 9.7985E-5 * dddd\n",
    "i_ch=6.929449422368333 \t# + 8.6178E-6 * dddd\n",
    "w_ch=339.3298742575888 \t# + 9.9254E-5 * dddd\n",
    "a_ch=13.6532230321495 #+ 1.5476E-6 * dddd  \n",
    "e_ch=0.3803659797957286  #+ 1.0919E-7 * dddd\n",
    "M_ch=122.8444574834622  +  0.0194185231134 * dddd   #0.01953670401251872 3.3214E-9 * ddd     2.6067E-5*d \n",
    "\n",
    "M_ch=normalize(M_ch)\n",
    "\n",
    "'''\n",
    "#A ERIS epoch  2456400.5 2013-apr-18.0   j2000= 2451543.5\n",
    "ddddd=d + 2451543.5 - 2456400.5\n",
    "\n",
    "N_pe=36.0308972598494  #+ 0.00025661 * ddddd\n",
    "i_pe=43.88534676566927 # + 0.00046695 * ddddd\n",
    "w_pe=150.8002573158863 # + 0.0055959 * ddddd\n",
    "a_pe=67.95784302407351 #+ 0.003268 * ddddd  \n",
    "e_pe=0.4370835020505101   #+ 3.7495E-5 * ddddd\n",
    "M_pe=203.2157808586589 +  0.001759319413340421 * ddddd   #0.012612 * ddddd     1.2691E-7*d * ddddd  \n",
    "\n",
    "M_pe=normalize(M_pe)"
   ]
  },
  {
   "cell_type": "code",
   "execution_count": null,
   "metadata": {},
   "outputs": [],
   "source": [
    "N_er=48.3313 + 3.24587E-5*d\n",
    "i_er=7.0047 +5.00E-8*d\n",
    "w_er=29.1241 + 1.01444E-5*d\n",
    "a_er=0.387098\n",
    "e_er=0.205635 + 5.59E-10*d\n",
    "M_er=168.6562 + 4.0923344368*d\n",
    "\n",
    "M_er=normalize(M_er)"
   ]
  },
  {
   "cell_type": "code",
   "execution_count": null,
   "metadata": {},
   "outputs": [],
   "source": [
    "def Planet_Sun(M, e, a, N, w, i):\n",
    "    M2=math.radians(M)\n",
    "    E0=M + (180/math.pi)*e*math.sin(M2)*(1+e*math.cos(M2))\n",
    "    E0=normalize(E0) \n",
    "    E02=math.radians(E0)\n",
    "    E1=E0 - (E0 - (180/math.pi)*e*math.sin(E02)-M)/(1-e*math.cos(E02))\n",
    "    E1=normalize(E1) \n",
    "    E=math.radians(E1)\n",
    "    x=a*(math.cos(E)-e)\n",
    "    y=a*(math.sqrt(1 - e*e))*math.sin(E)\n",
    "\n",
    "    r=math.sqrt(x*x+y*y)\n",
    "    v=math.atan2(y, x)\n",
    "    v=normalize(math.degrees(v))\n",
    "\n",
    "    xeclip=r*(math.cos(math.radians(N))*math.cos(math.radians(v+w)) - math.sin(math.radians(N))*math.sin(math.radians(v+w))*math.cos(math.radians(i)))\n",
    "    yeclip=r*(math.sin(math.radians(N))*math.cos(math.radians(v+w)) + math.cos(math.radians(N))*math.sin(math.radians(v+w))*math.cos(math.radians(i)))\n",
    "    zeclip=r*math.sin(math.radians(v+w))*math.sin(math.radians(i)) \n",
    "    long2 = math.atan2( yeclip, xeclip )\n",
    "    long2=normalize(math.degrees(long2))\n",
    "    lat2 = math.atan2( zeclip, math.sqrt( xeclip*xeclip +yeclip*yeclip ) )\n",
    "    lat2=math.degrees(lat2)\n",
    "    return (xeclip,yeclip,zeclip, long2, lat2, r)\n"
   ]
  },
  {
   "cell_type": "code",
   "execution_count": null,
   "metadata": {},
   "outputs": [],
   "source": [
    "Planet_Sun(M_af, e_af, a_af, N_af, w_af, i_af)"
   ]
  },
  {
   "cell_type": "code",
   "execution_count": null,
   "metadata": {},
   "outputs": [],
   "source": [
    "Planet_Sun(M_er, e_er, a_er, N_er, w_er, i_er)"
   ]
  },
  {
   "cell_type": "code",
   "execution_count": null,
   "metadata": {},
   "outputs": [],
   "source": [
    "Planet_Sun(M_kr, e_kr, a_kr, N_kr, w_kr, i_kr)"
   ]
  },
  {
   "cell_type": "code",
   "execution_count": null,
   "metadata": {},
   "outputs": [],
   "source": [
    "#xpeeclip,ypeeclip,zpeeclip = Planet_Sun(M_pe, e_pe, a_pe, N_pe, w_pe, i_pe)\n",
    "#xpeeclip,ypeeclip,zpeeclip \n",
    "xereclip,yereclip,zereclip, long2_er, lat2_er, r_er"
   ]
  },
  {
   "cell_type": "code",
   "execution_count": null,
   "metadata": {},
   "outputs": [],
   "source": [
    "#oi iliokentrikes theseis ton planiton. to kanoume gia ton emrni kai omoios prepei na ginei kai gia tous allous planites\n",
    "xereclip,yereclip,zereclip, long2_er, lat2_er, r_er = Planet_Sun(M_er, e_er, a_er, N_er, w_er, i_er)\n",
    "\n",
    "#Afroditi\n",
    "xafeclip,yafeclip,zafeclip, long2_af, lat2_af, r_af = Planet_Sun(M_af, e_af, a_af, N_af, w_af, i_af)\n",
    "\n",
    "#Aris\n",
    "xareclip,yareclip,zareclip, long2_ar, lat2_ar, r_ar = Planet_Sun(M_ar, e_ar, a_ar, N_ar, w_ar, i_ar)\n",
    "\n",
    "\n",
    "#Dias\n",
    "xdieclip,ydieclip,zdieclip, long2_di, lat2_di, r_di = Planet_Sun(M_di, e_di, a_di, N_di, w_di, i_di)\n",
    "\n",
    " #Kronos\n",
    "xkreclip,ykreclip,zkreclip, long2_kr, lat2_kr, r_kr = Planet_Sun(M_kr, e_kr, a_kr, N_kr, w_kr, i_kr)\n",
    "\n",
    "#Ouranos\n",
    "xoueclip,youeclip,zoueclip, long2_ou, lat2_ou, r_ou = Planet_Sun(M_ou, e_ou, a_ou, N_ou, w_ou, i_ou)\n",
    "\n",
    "#Poseidonas\n",
    "xpoeclip,ypoeclip,zpoeclip, long2_po, lat2_po, r_po = Planet_Sun(M_po, e_po, a_po, N_po, w_po, i_po)\n",
    "\n",
    "\n",
    "#Ceres\n",
    "xceeclip,yceeclip,zceeclip, long2_ce, lat2_ce, r_ce = Planet_Sun(M_ce, e_ce, a_ce, N_ce, w_ce, i_ce)\n",
    "\n",
    "#Chiron\n",
    "xcheclip,ycheclip,zcheclip, long2_ch, lat2_ch, r_ch = Planet_Sun(M_ch, e_ch, a_ch, N_ch, w_ch, i_ch)\n",
    "\n",
    "#Eris\n",
    "xpeeclip,ypeeclip,zpeeclip, long2_pe, lat2_pe, r_pe = Planet_Sun(M_pe, e_pe, a_pe, N_pe, w_pe, i_pe)\n",
    "\n",
    "#ploutonas\n",
    "S_pl  = math.radians(  50.03  +  0.033459652 * d)\n",
    "P_pl  = math.radians( 238.95  +  0.003968789 * d)\n",
    "\n",
    "long2_pl = (238.9508  +  0.00400703 * d\n",
    "            - 19.799 * math.sin(P_pl) + 19.848 * math.cos(P_pl) + 0.897 * math.sin(2*P_pl)\n",
    "       - 4.956 * math.cos(2*P_pl) + 0.610 * math.sin(3*P_pl)\n",
    "       + 1.211 * math.cos(3*P_pl) - 0.341 * math.sin(4*P_pl)\n",
    "       - 0.190 * math.cos(4*P_pl) + 0.128 * math.sin(5*P_pl)\n",
    "       - 0.034 * math.cos(5*P_pl) - 0.038 * math.sin(6*P_pl)\n",
    "       + 0.031 * math.cos(6*P_pl) + 0.020 * math.sin(S_pl - P_pl) \n",
    "       - 0.010 * math.cos(S_pl - P_pl) )\n",
    "lat2_pl = ( -3.9082 - 5.453 * math.sin(P_pl) - 14.975 * math.cos(P_pl)\n",
    "              + 3.527 * math.sin(2*P_pl) + 1.673 * math.cos(2*P_pl)\n",
    "              - 1.051 * math.sin(3*P_pl) + 0.328 * math.cos(3*P_pl)\n",
    "              + 0.179 * math.sin(4*P_pl) - 0.292 * math.cos(4*P_pl)\n",
    "              + 0.019 * math.sin(5*P_pl) + 0.100 * math.cos(5*P_pl)\n",
    "              - 0.031 * math.sin(6*P_pl) - 0.026 * math.cos(6*P_pl)\n",
    "              + 0.011 * math.cos(S_pl - P_pl) )\n",
    "r_pl = ( 40.72 + 6.68 * math.sin(P_pl) + 6.90 * math.cos(P_pl)\n",
    "              - 1.18 * math.sin(2*P_pl) - 0.03 * math.cos(2*P_pl)\n",
    "              + 0.15 * math.sin(3*P_pl) - 0.14 * math.cos(3*P_pl))\n",
    "\n",
    "long2_pl=math.radians(long2_pl)\n",
    "lat2_pl=math.radians(lat2_pl)\n",
    "x_pl = r_pl * math.cos(long2_pl) * math.cos(lat2_pl) #eclip\n",
    "y_pl = r_pl * math.sin(long2_pl) * math.cos(lat2_pl)\n",
    "z_pl = r_pl * math.sin(lat2_pl)\n",
    "\n",
    "x_geoc_pl = x_pl + x2  \n",
    "y_geoc_pl = y_pl + y2  \n",
    "z_geoc_pl = z_pl + z2\n",
    " \n",
    "RA_pl_eclip = math.atan2(y_geoc_pl, x_geoc_pl)\n",
    "RA_pl_eclip=normalize(math.degrees(RA_pl_eclip))  \n",
    "\n",
    "x0_pl = x_geoc_pl\n",
    "y0_pl = y_geoc_pl * math.cos(oblecl) - z_geoc_pl * math.sin(oblecl)\n",
    "z0_pl = y_geoc_pl * math.sin(oblecl) + z_geoc_pl * math.cos(oblecl)\n",
    "\n",
    "RA_pl = math.atan2(y0_pl, x0_pl)\n",
    "RA_pl=normalize(math.degrees(RA_pl))\n",
    "Decl_pl = math.atan2(z0_pl, math.sqrt(x0_pl*x0_pl + y0_pl*y0_pl))\n",
    "r_pl = math.sqrt(x0_pl*x0_pl + y0_pl*y0_pl + z0_pl*z0_pl)\n",
    " \n",
    "\"\"\"/*den doulevei akomi kala\n",
    "HHA = (sidtime - RA_pl/15) * 15\n",
    "\n",
    "  xxx = math.cos(HHA) * math.cos(Decl_pl)\n",
    "  yyy = math.sin(HHA) * math.cos(Decl_pl)\n",
    "  zzz = math.sin(Decl_pl)\n",
    "\n",
    "  xxhor = xxx * math.sin(lat2_pl) - zzz * math.cos(lat2_pl)\n",
    "  yyhor = yyy\n",
    "  zzhor = zzx * math.cos(lat2_pl) + zzz * math.sin(lat2_pl)\n",
    "\n",
    "  az_pl = math.degrees(math.atan2(yyhor, xxhor)) + 180 \n",
    "  al_pl = math.degrees(math.asin(zzhor))\n",
    "echo az_pl\n",
    "echo '<br>'.al_pl\n",
    "*/\"\"\""
   ]
  },
  {
   "cell_type": "code",
   "execution_count": null,
   "metadata": {},
   "outputs": [],
   "source": [
    "#megaliteri akriveia - Diataraxes\n",
    "M_di=normalize(M_di)\n",
    "M_kr=normalize(M_kr)\n",
    "M_ou=normalize(M_ou)\n",
    "\n",
    "#diataraxes pou tha prostethoun sto geogr. mikos tou DIA\n",
    "di_diat1=-0.332*math.sin(math.radians(2*M_di - 5 * M_kr - 67.6))\n",
    "di_diat2=-0.056*math.sin(math.radians(2*M_di - 2 * M_kr +21))\n",
    "di_diat3=0.042*math.sin(math.radians(3*M_di - 5 * M_kr +21))\n",
    "di_diat4=-0.036*math.sin(math.radians(M_di - 2 * M_kr))\n",
    "di_diat5=0.022*math.cos(math.radians(M_di - M_kr))\n",
    "di_diat6=0.023*math.sin(math.radians(2*M_di - 3 * M_kr + 52))\n",
    "di_diat7=-0.016*math.sin(math.radians(M_di - 5 * M_kr - 69))\n",
    "#diataraxes pou tha prostethoun sto geogr. mikos tou Kronou\n",
    "kr_diat1=0.812*math.sin(math.radians(2*M_di - 5 * M_kr - 67.6))\n",
    "kr_diat2=-0.229*math.cos(math.radians(2*M_di - 4 * M_kr -2))\n",
    "kr_diat3=0.119*math.sin(math.radians(M_di - 2 * M_kr - 3))\n",
    "kr_diat4=0.046*math.sin(math.radians(2*M_di - 6 * M_kr - 69))\n",
    "kr_diat5=0.014*math.sin(math.radians(M_di - 3* M_kr + 32))\n",
    "#diataraxes pou tha prostethoun sto geogr. PLATOS tou Kronou\n",
    "kr_diat6=-0.02*math.cos(math.radians(2*M_di - 4 * M_kr - 2))\n",
    "kr_diat7=0.018*math.sin(math.radians(2*M_di - 6 * M_kr - 49))\n",
    "#diataraxes pou tha prostethoun sto geogr. mikos tou Ouranou\n",
    "ou_diat1=0.04*math.sin(math.radians(M_kr - 2 * M_ou + 6))\n",
    "ou_diat2=0.035*math.sin(math.radians(M_kr - 3 * M_ou + 33))\n",
    "ou_diat3=-0.015*math.sin(math.radians(M_di - M_ou +20))\n",
    "\n",
    "diataraxes_long_di=(di_diat1 + di_diat2 + di_diat3 + di_diat4 + di_diat5 + di_diat6 + di_diat7)\n",
    "diataraxes_long_kr=(kr_diat1 + kr_diat2 + kr_diat3 + kr_diat4 + kr_diat5)\n",
    "diataraxes_lat_kr=(kr_diat6 + kr_diat7)\n",
    "diataraxes_long_ou=(ou_diat1 + ou_diat2 + ou_diat3)\n",
    "\n",
    "#diorthomenes times gia dia krono kai ourano\n",
    "long2_di=long2_di + diataraxes_long_di\n",
    "long2_kr=long2_kr + diataraxes_long_kr\n",
    "lat2_kr=lat2_kr + diataraxes_lat_kr\n",
    "long2_ou=long2_ou + diataraxes_long_ou\n",
    "\n",
    "long2_di=(math.radians(long2_di))\n",
    "lat2_di=(math.radians(lat2_di))\n",
    "long2_kr=(math.radians(long2_kr))\n",
    "lat2_kr=(math.radians(lat2_kr))\n",
    "long2_ou=(math.radians(long2_ou)) \n",
    "lat2_ou=(math.radians(lat2_ou)) \n",
    "#upologizoume ena neo xdieclip math.sinipologizontas tis diataraxes\n",
    "xdieclip = r_di * math.cos(long2_di) * math.cos(lat2_di)\n",
    "ydieclip = r_di * math.sin(long2_di) * math.cos(lat2_di) \n",
    "zdieclip = r_di * math.sin(lat2_di)\n",
    "xkreclip = r_kr * math.cos(long2_kr) * math.cos(lat2_kr)\n",
    "ykreclip = r_kr * math.sin(long2_kr) * math.cos(lat2_kr) \n",
    "zkreclip = r_kr * math.sin(lat2_kr)\n",
    "xoueclip = r_ou * math.cos(long2_ou) * math.cos(lat2_ou)\n",
    "youeclip = r_ou * math.sin(long2_ou) * math.cos(lat2_ou) \n",
    "zoueclip = r_ou * math.sin(lat2_ou)  \n"
   ]
  },
  {
   "cell_type": "code",
   "execution_count": null,
   "metadata": {},
   "outputs": [],
   "source": [
    " math.cos(lat2_di)"
   ]
  },
  {
   "cell_type": "code",
   "execution_count": null,
   "metadata": {},
   "outputs": [],
   "source": [
    "x_geoc_er=(x2+xereclip)\n",
    "y_geoc_er=(y2+yereclip)\n",
    "z_geoc_er=(z2+zereclip)\n",
    "\n",
    "RA_er_eclip=math.atan2(y_geoc_er, x_geoc_er)\n",
    "RA_er_eclip=normalize(math.degrees(RA_er_eclip))\n",
    "\n",
    "x_equat_er=x_geoc_er\n",
    "y_equat_er=(y_geoc_er * math.cos(oblecl) - z_geoc_er * math.sin(oblecl)) \n",
    "z_equat_er=(y_geoc_er*math.sin(oblecl) + z_geoc_er * math.cos(oblecl)) \n",
    "\n",
    "RA_er=math.atan2(y_equat_er, x_equat_er)\n",
    "RA_er=normalize(math.degrees(RA_er))\n",
    "Decl_er =math.atan2( z_equat_er, math.sqrt( x_equat_er*x_equat_er +y_equat_er*y_equat_er) )\n",
    "Decl_er=math.degrees(Decl_er)\n",
    "\n",
    "r_er=math.sqrt(x_geoc_er*x_geoc_er + y_geoc_er*y_geoc_er + z_geoc_er * z_geoc_er)\n",
    "r_er #10/0618 probably distance from earth\n",
    "#RA_er #10/0618 probably geocentric\n",
    "RA_er_eclip"
   ]
  },
  {
   "cell_type": "code",
   "execution_count": null,
   "metadata": {},
   "outputs": [],
   "source": [
    "r_er\n"
   ]
  },
  {
   "cell_type": "code",
   "execution_count": null,
   "metadata": {},
   "outputs": [],
   "source": [
    "#########################################################  OS EDO"
   ]
  },
  {
   "cell_type": "code",
   "execution_count": null,
   "metadata": {},
   "outputs": [],
   "source": [
    "def sun2geo(xeclip,yeclip,zeclip, x=x2,y=y2,z=z2):\n",
    "    x_geoc=(x+xeclip)\n",
    "    y_geoc=(y+yeclip)\n",
    "    z_geoc=(z+zeclip)\n",
    "\n",
    "    RA_eclip=math.atan2(y_geoc, x_geoc)\n",
    "    RA_eclip=normalize(math.degrees(RA_eclip))\n",
    "    return RA_eclip"
   ]
  },
  {
   "cell_type": "code",
   "execution_count": null,
   "metadata": {},
   "outputs": [],
   "source": [
    "sun2geo(xereclip,yereclip,zereclip)"
   ]
  },
  {
   "cell_type": "code",
   "execution_count": null,
   "metadata": {},
   "outputs": [],
   "source": [
    "sun2geo(xdieclip,ydieclip,zdieclip)"
   ]
  },
  {
   "cell_type": "code",
   "execution_count": null,
   "metadata": {},
   "outputs": [],
   "source": []
  },
  {
   "cell_type": "code",
   "execution_count": null,
   "metadata": {},
   "outputs": [],
   "source": [
    "\n",
    "  \n",
    "\n",
    "\n",
    "#metaptosi ?????????????????????????????????????????????????\n",
    "#Geokentrikes theseis planiton\n",
    "#prosthetoume tin thesi tou iliou sti thesi ton planiton\n",
    "#gia ton ermi, pairnoume\n",
    "x_geoc_er=(x2+xereclip)\n",
    "y_geoc_er=(y2+yereclip)\n",
    "z_geoc_er=(z2+zereclip)\n",
    "\n",
    "RA_er_eclip=math.atan2(y_geoc_er, x_geoc_er)\n",
    "RA_er_eclip=normalize(math.degrees(RA_er_eclip))\n",
    "#echo (x_geoc_er.'<br>') \n",
    "#echo (y_geoc_er.'<br>') \n",
    "#echo (z_geoc_er.'<br>') \n",
    "x_equat_er=x_geoc_er\n",
    "y_equat_er=(y_geoc_er * math.cos(oblecl) - z_geoc_er * math.sin(oblecl)) \n",
    "z_equat_er=(y_geoc_er*math.sin(oblecl) + z_geoc_er * math.cos(oblecl)) \n",
    "#echo (x_equat_er.'<br>') \n",
    "#echo (y_equat_er.'<br>') \n",
    "#echo (z_equat_er.'<br>') \n",
    "RA_er=math.atan2(y_equat_er, x_equat_er)\n",
    "RA_er=normalize(math.degrees(RA_er))\n",
    "Decl_er =math.atan2( z_equat_er, math.sqrt( x_equat_er*x_equat_er +y_equat_er*y_equat_er) )\n",
    "Decl_er=math.degrees(Decl_er)\n",
    "#echo (RA_er.'<br>') \n",
    "#echo (Decl_er.'<br>') \n",
    "r_er=math.sqrt(x_geoc_er*x_geoc_er + y_geoc_er*y_geoc_er + z_geoc_er * z_geoc_er)\n",
    "#echo (r_er.'<br>') \n",
    "\n",
    "#Afroditi\n",
    "x_geoc_af=(x2+xafeclip)\n",
    "y_geoc_af=(y2+yafeclip)\n",
    "z_geoc_af=(z2+zafeclip)\n",
    "\n",
    "RA_af_eclip=math.atan2(y_geoc_af, x_geoc_af)\n",
    "RA_af_eclip=normalize(math.degrees(RA_af_eclip))\n",
    "#echo (x_geoc_af.'<br>') \n",
    "#echo (y_geoc_af.'<br>') \n",
    "#echo (z_geoc_af.'<br>') \n",
    "x_equat_af=x_geoc_af\n",
    "y_equat_af=(y_geoc_af * math.cos(oblecl) - z_geoc_af * math.sin(oblecl)) \n",
    "z_equat_af=(y_geoc_af*math.sin(oblecl) + z_geoc_af * math.cos(oblecl)) \n",
    "#echo (x_equat_af.'<br>') \n",
    "#echo (y_equat_af.'<br>') \n",
    "#echo (z_equat_af.'<br>') \n",
    "RA_af=math.atan2(y_equat_af, x_equat_af)\n",
    "RA_af=normalize(math.degrees(RA_af))\n",
    "Decl_af =math.atan2( z_equat_af, math.sqrt( x_equat_af*x_equat_af +y_equat_af*y_equat_af) )\n",
    "Decl_af=math.degrees(Decl_af)\n",
    "#echo (RA_af.'<br>') \n",
    "#echo (Decl_af.'<br>') \n",
    "r_af=math.sqrt(x_geoc_af*x_geoc_af + y_geoc_af*y_geoc_af + z_geoc_af * z_geoc_af)\n",
    "# echo (r_af.'<br>')   \n",
    "\n",
    "#Aris\n",
    "x_geoc_ar=(x2+xareclip)\n",
    "y_geoc_ar=(y2+yareclip)\n",
    "z_geoc_ar=(z2+zareclip)\n",
    "\n",
    "RA_ar_eclip=math.atan2(y_geoc_ar, x_geoc_ar)\n",
    "RA_ar_eclip=normalize(math.degrees(RA_ar_eclip))\n",
    "#echo (x_geoc_ar.'<br>') \n",
    "#echo (y_geoc_ar.'<br>') \n",
    "#echo (z_geoc_ar.'<br>') \n",
    "x_equat_ar=x_geoc_ar\n",
    "y_equat_ar=(y_geoc_ar * math.cos(oblecl) - z_geoc_ar * math.sin(oblecl)) \n",
    "z_equat_ar=(y_geoc_ar*math.sin(oblecl) + z_geoc_ar * math.cos(oblecl)) \n",
    "#echo (x_equat_ar.'<br>') \n",
    "#echo (y_equat_ar.'<br>') \n",
    "#echo (z_equat_ar.'<br>') \n",
    "RA_ar=math.atan2(y_equat_ar, x_equat_ar)\n",
    "RA_ar=normalize(math.degrees(RA_ar))\n",
    "Decl_ar =math.atan2( z_equat_ar, math.sqrt( x_equat_ar*x_equat_ar +y_equat_ar*y_equat_ar) )\n",
    "Decl_ar=math.degrees(Decl_ar)\n",
    "#echo (RA_ar.'<br>') \n",
    "#echo (Decl_ar.'<br>') \n",
    "r_ar=math.sqrt(x_geoc_ar*x_geoc_ar + y_geoc_ar*y_geoc_ar + z_geoc_ar * z_geoc_ar)\n",
    "# echo (r_ar.'<br>')  \n",
    "\n",
    " #Dias\n",
    "x_geoc_di=(x2+xdieclip)\n",
    "y_geoc_di=(y2+ydieclip)\n",
    "z_geoc_di=(z2+zdieclip)\n",
    "\n",
    "RA_di_eclip=math.atan2(y_geoc_di, x_geoc_di)\n",
    "RA_di_eclip=normalize(math.degrees(RA_di_eclip))\n",
    "#echo (x_geoc_di.'<br>') \n",
    "#echo (y_geoc_di.'<br>') \n",
    "#echo (z_geoc_di.'<br>') \n",
    "x_equat_di=x_geoc_di\n",
    "y_equat_di=(y_geoc_di * math.cos(oblecl) - z_geoc_di * math.sin(oblecl)) \n",
    "z_equat_di=(y_geoc_di*math.sin(oblecl) + z_geoc_di * math.cos(oblecl)) \n",
    "#echo (x_equat_di.'<br>') \n",
    "#echo (y_equat_di.'<br>') \n",
    "#echo (z_equat_di.'<br>') \n",
    "RA_di=math.atan2(y_equat_di, x_equat_di)\n",
    "RA_di=normalize(math.degrees(RA_di))\n",
    "Decl_di =math.atan2( z_equat_di, math.sqrt( x_equat_di*x_equat_di +y_equat_di*y_equat_di) )\n",
    "Decl_di=math.degrees(Decl_di)\n",
    "#echo (RA_di.'<br>') \n",
    "#echo (Decl_di.'<br>') \n",
    "r_di=math.sqrt(x_geoc_di*x_geoc_di + y_geoc_di*y_geoc_di + z_geoc_di * z_geoc_di)\n",
    "#echo (r_di.'<br>')  \n",
    "#Kronos\n",
    "x_geoc_kr=(x2+xkreclip)\n",
    "y_geoc_kr=(y2+ykreclip)\n",
    "z_geoc_kr=(z2+zkreclip)\n",
    "\n",
    "RA_kr_eclip=math.atan2(y_geoc_kr, x_geoc_kr)\n",
    "RA_kr_eclip=normalize(math.degrees(RA_kr_eclip))\n",
    "#echo (x_geoc_kr.'<br>') \n",
    "#echo (y_geoc_kr.'<br>') \n",
    "#echo (z_geoc_kr.'<br>') \n",
    "x_equat_kr=x_geoc_kr\n",
    "y_equat_kr=(y_geoc_kr * math.cos(oblecl) - z_geoc_kr * math.sin(oblecl)) \n",
    "z_equat_kr=(y_geoc_kr*math.sin(oblecl) + z_geoc_kr * math.cos(oblecl)) \n",
    "#echo (x_equat_kr.'<br>') \n",
    "#echo (y_equat_kr.'<br>') \n",
    "#echo (z_equat_kr.'<br>') \n",
    "RA_kr=math.atan2(y_equat_kr, x_equat_kr)\n",
    "RA_kr=normalize(math.degrees(RA_kr))\n",
    "Decl_kr =math.atan2( z_equat_kr, math.sqrt( x_equat_kr*x_equat_kr +y_equat_kr*y_equat_kr) )\n",
    "Decl_kr=math.degrees(Decl_kr)\n",
    "#echo (RA_kr.'<br>') \n",
    "#echo (Decl_kr.'<br>') \n",
    "r_kr=math.sqrt(x_geoc_kr*x_geoc_kr + y_geoc_kr*y_geoc_kr + z_geoc_kr * z_geoc_kr)\n",
    "# echo (r_kr.'<br>')  \n",
    "#Ouranos\n",
    "x_geoc_ou=(x2+xoueclip)\n",
    "y_geoc_ou=(y2+youeclip)\n",
    "z_geoc_ou=(z2+zoueclip)\n",
    "RA_ou_eclip=math.atan2(y_geoc_ou, x_geoc_ou)\n",
    "RA_ou_eclip=normalize(math.degrees(RA_ou_eclip))\n",
    "#echo (x_geoc_ou.'<br>') \n",
    "#echo (y_geoc_ou.'<br>') \n",
    "#echo (z_geoc_ou.'<br>') \n",
    "x_equat_ou=x_geoc_ou\n",
    "y_equat_ou=(y_geoc_ou * math.cos(oblecl) - z_geoc_ou * math.sin(oblecl)) \n",
    "z_equat_ou=(y_geoc_ou*math.sin(oblecl) + z_geoc_ou * math.cos(oblecl)) \n",
    "#echo (x_equat_ou.'<br>') \n",
    "#echo (y_equat_ou.'<br>') \n",
    "#echo (z_equat_ou.'<br>') \n",
    "RA_ou=math.atan2(y_equat_ou, x_equat_ou)\n",
    "RA_ou=normalize(math.degrees(RA_ou))\n",
    "Decl_ou =math.atan2( z_equat_ou, math.sqrt( x_equat_ou*x_equat_ou +y_equat_ou*y_equat_ou) )\n",
    "Decl_ou=math.degrees(Decl_ou)\n",
    "#echo (RA_ou.'<br>') \n",
    "#echo (Decl_ou.'<br>') \n",
    "r_ou=math.sqrt(x_geoc_ou*x_geoc_ou + y_geoc_ou*y_geoc_ou + z_geoc_ou * z_geoc_ou)\n",
    "#echo (r_ou.'<br>') \n",
    "#Poseidonas\n",
    "x_geoc_po=(x2+xpoeclip)\n",
    "y_geoc_po=(y2+ypoeclip)\n",
    "z_geoc_po=(z2+zpoeclip)\n",
    "\n",
    "RA_po_eclip=math.atan2(y_geoc_po, x_geoc_po)\n",
    "RA_po_eclip=normalize(math.degrees(RA_po_eclip))\n",
    "#echo (x_geoc_po.'<br>')  \n",
    "#echo (y_geoc_po.'<br>') \n",
    "#echo (z_geoc_po.'<br>') \n",
    "x_equat_po=x_geoc_po\n",
    "y_equat_po=(y_geoc_po * math.cos(oblecl) - z_geoc_po * math.sin(oblecl)) \n",
    "z_equat_po=(y_geoc_po*math.sin(oblecl) + z_geoc_po * math.cos(oblecl)) \n",
    "#echo (x_equat_po.'<br>') \n",
    "#echo (y_equat_po.'<br>') \n",
    "#echo (z_equat_po.'<br>') \n",
    "RA_po=math.atan2(y_equat_po, x_equat_po)\n",
    "RA_po=normalize(math.degrees(RA_po))\n",
    "Decl_po =math.atan2( z_equat_po, math.sqrt( x_equat_po*x_equat_po +y_equat_po*y_equat_po) )\n",
    "Decl_po=math.degrees(Decl_po)\n",
    "#echo (RA_po.'<br>') \n",
    "#echo (Decl_po.'<br>') \n",
    "r_po=math.sqrt(x_geoc_po*x_geoc_po + y_geoc_po*y_geoc_po + z_geoc_po*z_geoc_po)\n",
    "#echo (r_po.'<br>')  \n",
    "\n",
    "#Ceres\n",
    "x_geoc_ce=(x2+xceeclip)\n",
    "y_geoc_ce=(y2+yceeclip)\n",
    "z_geoc_ce=(z2+zceeclip)\n",
    "\n",
    "RA_ce_eclip=math.atan2(y_geoc_ce, x_geoc_ce)\n",
    "RA_ce_eclip=normalize(math.degrees(RA_ce_eclip))\n",
    "#echo (x_geoc_ce.'<br>') \n",
    "#echo (y_geoc_ce.'<br>') \n",
    "#echo (z_geoc_ce.'<br>') \n",
    "x_equat_ce=x_geoc_ce\n",
    "y_equat_ce=(y_geoc_ce * math.cos(oblecl) - z_geoc_ce * math.sin(oblecl)) \n",
    "z_equat_ce=(y_geoc_ce*math.sin(oblecl) + z_geoc_ce * math.cos(oblecl)) \n",
    "#echo (x_equat_ce.'<br>') \n",
    "#echo (y_equat_ce.'<br>') \n",
    "#echo (z_equat_ce.'<br>') \n",
    "RA_ce=math.atan2(y_equat_ce, x_equat_ce)\n",
    "RA_ce=normalize(math.degrees(RA_ce))\n",
    "Decl_ce =math.atan2( z_equat_ce, math.sqrt( x_equat_ce*x_equat_ce +y_equat_ce*y_equat_ce) )\n",
    "Decl_ce=math.degrees(Decl_ce)\n",
    "#echo (RA_ce.'<br>') \n",
    "#echo (Decl_ce.'<br>') \n",
    "r_ce=math.sqrt(x_geoc_ce*x_geoc_ce + y_geoc_ce*y_geoc_ce + z_geoc_ce * z_geoc_ce)\n",
    "#echo (r_ce.'<br>')\n",
    "\n",
    "\n",
    "#Chiron\n",
    "x_geoc_ch=(x2+xcheclip)\n",
    "y_geoc_ch=(y2+ycheclip)\n",
    "z_geoc_ch=(z2+zcheclip)\n",
    "\n",
    "RA_ch_eclip=math.atan2(y_geoc_ch, x_geoc_ch)\n",
    "RA_ch_eclip=normalize(math.degrees(RA_ch_eclip))\n",
    "#echo (x_geoc_ch.'<br>') \n",
    "#echo (y_geoc_ch.'<br>') \n",
    "#echo (z_geoc_ch.'<br>') \n",
    "x_equat_ch=x_geoc_ch\n",
    "y_equat_ch=(y_geoc_ch * math.cos(oblecl) - z_geoc_ch * math.sin(oblecl)) \n",
    "z_equat_ch=(y_geoc_ch*math.sin(oblecl) + z_geoc_ch * math.cos(oblecl)) \n",
    "#echo (x_equat_ch.'<br>') \n",
    "#echo (y_equat_ch.'<br>') \n",
    "#echo (z_equat_ch.'<br>') \n",
    "RA_ch=math.atan2(y_equat_ch, x_equat_ch)\n",
    "RA_ch=normalize(math.degrees(RA_ch))\n",
    "Decl_ch =math.atan2( z_equat_ch, math.sqrt( x_equat_ch*x_equat_ch +y_equat_ch*y_equat_ch) )\n",
    "Decl_ch=math.degrees(Decl_ch)\n",
    "#echo (RA_ch.'<br>') \n",
    "#echo (Decl_ch.'<br>') \n",
    "r_ch=math.sqrt(x_geoc_ch*x_geoc_ch + y_geoc_ch*y_geoc_ch + z_geoc_ch * z_geoc_ch)\n",
    "#echo (r_ch.'<br>')\n",
    "\n",
    "#Eris\n",
    "x_geoc_pe=(x2+xpeeclip)\n",
    "y_geoc_pe=(y2+ypeeclip)\n",
    "z_geoc_pe=(z2+zpeeclip)\n",
    "\n",
    "RA_pe_eclip=math.atan2(y_geoc_pe, x_geoc_pe)\n",
    "RA_pe_eclip=normalize(math.degrees(RA_pe_eclip))\n",
    "#echo (x_geoc_pe.'<br>') \n",
    "#echo (y_geoc_pe.'<br>') \n",
    "#echo (z_geoc_pe.'<br>') \n",
    "x_equat_pe=x_geoc_pe\n",
    "y_equat_pe=(y_geoc_pe * math.cos(oblecl) - z_geoc_pe * math.sin(oblecl)) \n",
    "z_equat_pe=(y_geoc_pe*math.sin(oblecl) + z_geoc_pe * math.cos(oblecl)) \n",
    "#echo (x_equat_pe.'<br>') \n",
    "#echo (y_equat_pe.'<br>') \n",
    "#echo (z_equat_pe.'<br>') \n",
    "RA_pe=math.atan2(y_equat_pe, x_equat_pe)\n",
    "RA_pe=normalize(math.degrees(RA_pe))\n",
    "Decl_pe =math.atan2( z_equat_pe, math.sqrt( x_equat_pe*x_equat_pe +y_equat_pe*y_equat_pe) )\n",
    "Decl_pe=math.degrees(Decl_pe)\n",
    "#echo (RA_pe.'<br>') \n",
    "#echo (Decl_pe.'<br>') \n",
    "r_pe=math.sqrt(x_geoc_pe*x_geoc_pe + y_geoc_pe*y_geoc_pe + z_geoc_pe * z_geoc_pe)\n",
    "#echo (r_pe.'<br>')\n"
   ]
  },
  {
   "cell_type": "code",
   "execution_count": null,
   "metadata": {},
   "outputs": [],
   "source": []
  },
  {
   "cell_type": "code",
   "execution_count": null,
   "metadata": {},
   "outputs": [],
   "source": []
  },
  {
   "cell_type": "code",
   "execution_count": null,
   "metadata": {},
   "outputs": [],
   "source": []
  },
  {
   "cell_type": "code",
   "execution_count": null,
   "metadata": {},
   "outputs": [],
   "source": [
    "\n",
    "\n",
    "\n",
    "\n",
    "\n",
    "\n",
    "\n",
    "#ypologismos anadromis kinisis\n",
    "d=(d+0.2)\n",
    "\n",
    "w=282.9404 + 4.70935E-5 * d        \n",
    "a=1\n",
    "e=(0.016709 - (1.151E-9  * d))     \n",
    "M=356.047 + 0.9856002585 * d   \n",
    "M=normalize(M)\n",
    "L=w+M   \n",
    "L=normalize(L)\n",
    "oblecl=23.4393 - 3.563E-7 * d\n",
    "M2=M\n",
    "M=math.radians(M)\n",
    "E=M2 + (180/math.pi)*e*math.sin(M)*(1+e*math.cos(M))\n",
    "E=math.radians(E)\n",
    "x=math.cos(E)-e #orthogonies math.sintetagmenes sto epipedo tis ekleiptikis opou to x deixnei pros to periilio\n",
    "y=math.sin(E)*math.sqrt(1-e*e)\n",
    "r=math.sqrt(x*x + y*y) #r=apostasi\n",
    "v=math.atan2(y,x)  #v=alithini anomalia\n",
    "v=math.degrees(v) \n",
    "lonR=(v+w)    # geografiko mikos iliou\n",
    "lonR=normalize(lonR)\n",
    "lonR=math.radians(lonR) \n",
    "x2R=r * math.cos(lonR) #ekleiptikes orthogonies math.sintetagmenes \n",
    "y2R=r * math.sin(lonR) \n",
    "z2R=0 \n",
    "#xrisimopoioume to oblecl gia na metatrepsoume autes tis math.sintetagmenes   \n",
    "xequat = x2   \n",
    "oblecl=math.radians(oblecl)\n",
    "yequat = (y2*math.cos(oblecl) + z2 * math.sin(oblecl))\n",
    "zequat = (y2*math.sin(oblecl) + z2 * math.cos(oblecl))  \n",
    "RAR=math.atan2(yequat, xequat)\n",
    "RAR=math.degrees(RAR)\n",
    "RAR=normalize(RAR)\n",
    "DeclR=math.atan2(zequat, math.sqrt(xequat*xequat +yequat*yequat))\n",
    "DeclR=math.degrees(DeclR)\n",
    "\n",
    "#Astrikos xronos-gonia oras-ipsos kai azimouthio\n",
    "#ut=0 #prepeina  to valo -2\n",
    "gmsto=L/15 + 12 \n",
    "\n",
    "sidtime=gmsto+UT+longtitude/15\n",
    "#echo (sidtime.'<br>') \n",
    "HA=(sidtime*15 - RAR) #HA=gonia oras\n",
    "#echo (HA.'<br>') \n",
    "HA=math.radians(HA)\n",
    "DeclR=math.radians(DeclR)\n",
    "x3=math.cos(HA)*math.cos(DeclR)#orthogonio sistima math.sintetagmenon \n",
    "y3=math.sin(HA)*math.cos(DeclR)\n",
    "z3=math.sin(DeclR)\n",
    "\n",
    "#latitude=math.radians(latitude)\n",
    "xhor=(x3*math.sin(latitude) - z3*math.cos(latitude))\n",
    "yhor=y3\n",
    "zhor=(x3*math.cos(latitude) + z3*math.sin(latitude))\n",
    "#echo (xhor.'<br>') \n",
    "#echo (yhor.'<br>') \n",
    "#echo (zhor.'<br>') \n",
    "azim=math.atan2(yhor, xhor) #sfairikes math.sintetagmenes r=1\n",
    "azim=math.degrees(azim)\n",
    "azimuth=azim + 180 \n",
    "altitude=math.asin(zhor)\n",
    "altitude=math.degrees(altitude)\n",
    "#echo (azimuth.'<br>') \n",
    "#echo (altitude.'<br>') \n",
    "\n",
    "\n",
    " #troxiaka stoixeia planiton\n",
    " #Ermis\n",
    "N_er=48.3313 + 3.24587E-5*d\n",
    "i_er=7.0047 +5.00E-8*d\n",
    "w_er=29.1241 + 1.01444E-5*d\n",
    "a_er=0.387098\n",
    "e_er=0.205635 + 5.59E-10*d\n",
    "M_er=168.6562 + 4.0923344368*d\n",
    "\n",
    "M_er=normalize(M_er)\n",
    "\n",
    " #Afroditi\n",
    "N_af=76.6799 + 2.46590E-5*d\n",
    "i_af=3.3946 +2.75E-8*d\n",
    "w_af=54.8910 + 1.38374E-5*d\n",
    "a_af=0.723330\n",
    "e_af=0.006773 - 1.30E-9*d\n",
    "M_af=48.0052 + 1.6021302244*d\n",
    "\n",
    "M_af=normalize(M_af)\n",
    " \n",
    " #Aris\n",
    "N_ar=49.5574 + 2.11081E-5*d\n",
    "i_ar=1.8497 - 1.78E-8*d\n",
    "w_ar=286.5016 + 2.92961E-5*d\n",
    "a_ar=1.523688\n",
    "e_ar=0.093405 + 2.51E-9*d\n",
    "M_ar=18.6021 + 0.5240207766*d\n",
    "\n",
    "M_ar=normalize(M_ar)\n",
    "\n",
    " #Dias\n",
    "N_di=100.4542 + 2.76854E-5*d\n",
    "i_di=1.3030 - 1.557E-7*d\n",
    "w_di=273.8777 + 1.6450E-5*d\n",
    "a_di=5.20256\n",
    "e_di=0.048498 + 4.469E-9*d\n",
    "M_di=19.8950 + 0.0830853001*d\n",
    "\n",
    "M_di=normalize(M_di)\n",
    "\n",
    " #Kronos\n",
    "N_kr=113.6634 + 2.38980E-5*d\n",
    "i_kr=2.4886 - 1.081E-7*d\n",
    "w_kr=339.3939 + 2.97661E-5*d\n",
    "a_kr=9.55475\n",
    "e_kr=0.055546 - 9.499E-9*d\n",
    "M_kr=316.9670 + 0.0334442282*d\n",
    "\n",
    "M_kr=normalize(M_kr)\n",
    " \n",
    " #Ouranos\n",
    "N_ou=74.0005 + 1.3978E-5*d\n",
    "i_ou=0.7733 + 1.9E-8*d\n",
    "w_ou=96.6612 + 3.0565E-5*d\n",
    "a_ou=19.18171 - 1.55E-8*d\n",
    "e_ou=0.047318 + 7.45E-9*d\n",
    "M_ou=142.5905 + 0.011725806*d\n",
    "\n",
    "M_ou=normalize(M_ou)\n",
    "\n",
    " #Poseidonas\n",
    "N_po=131.7806 + 3.0173E-5*d\n",
    "i_po=1.7700 - 2.55E-7*d\n",
    "w_po=272.8461 - 6.027E-6*d\n",
    "a_po=30.05826 + 3.313E-8*d\n",
    "e_po=0.008606 + 2.15E-9*d\n",
    "M_po=260.2471 + 0.005995147*d\n",
    "\n",
    "M_po=normalize(M_po)\n",
    "\n",
    "#D CERES epoch 2455400.5 2010-jul-23.0   j2000= 2451543.5\n",
    "ddd=d + 2451543.5 - 2455400.5\n",
    "\n",
    "N_ce=80.39319901972638 \t + 1.1593E-5*ddd\n",
    "i_ce=10.58682160714853 \t- 2.2048E-6*ddd\n",
    "w_ce=72.58981198193074 \t + 1.84E-5*ddd\n",
    "a_ce=2.765348506018043 \t # 1.5886E-9*ddd   \n",
    "e_ce=0.07913825487621974 + 1.8987E-8*ddd\n",
    "M_ce=113.4104433863731 \t  + 0.21408169952325 \t * ddd\t#0.21432781439  * ddd # 1.8468E-10 * ddd #   (0.21... = 78.19deg/year / 365.25)  1.4429E-5*d #113.41044338663731 \n",
    "\n",
    "M_ce=normalize(M_ce)\n",
    "\n",
    "#A CHIRON epoch  2456400.5 2013-apr-18.0   j2000= 2451543.5\n",
    "dddd=d + 2451543.5 - 2456400.5\n",
    "\n",
    "N_ch=209.3557401732507 \t #+ 9.7985E-5 * dddd\n",
    "i_ch=6.929449422368333 \t# + 8.6178E-6 * dddd\n",
    "w_ch=339.3298742575888 \t# + 9.9254E-5 * dddd\n",
    "a_ch=13.6532230321495 #+ 1.5476E-6 * dddd  \n",
    "e_ch=0.3803659797957286  #+ 1.0919E-7 * dddd\n",
    "M_ch=122.8444574834622  +  0.01953670401251872 * dddd   #0.01953670401251872 3.3214E-9 * ddd     2.6067E-5*d \n",
    "\n",
    "M_ch=normalize(M_ch)\n",
    "\n",
    "#A ERIS epoch  2456400.5 2013-apr-18.0   j2000= 2451543.5\n",
    "ddddd=d + 2451543.5 - 2456400.5\n",
    "\n",
    "N_pe=36.0308972598494 \t \t #+ 0.00025661 * ddddd\n",
    "i_pe=43.88534676566927 \t \t# + 0.00046695 * ddddd\n",
    "w_pe=150.8002573158863 \t \t# + 0.0055959 * ddddd\n",
    "a_pe=67.95784302407351 #+ 0.003268 * ddddd  \n",
    "e_pe=0.4370835020505101 \t  #+ 3.7495E-5 * ddddd\n",
    "M_pe=203.2157808586589 +  0.001759319413340421 * ddddd   #0.012612 * ddddd     1.2691E-7*d * ddddd  \n",
    "\n",
    "M_pe=normalize(M_pe)\n",
    "\n",
    "\n",
    "#oi iliokentrikes theseis ton planiton. to kanoume gia ton emrni kai omoios prpei na ginei kai gia tous allous planites\n",
    "M2_er=math.radians(M_er)\n",
    "E0_er=M_er + (180/math.pi)*e_er*math.sin(M2_er)*(1+e_er*math.cos(M2_er))\n",
    "E0_er=normalize(E0_er) \n",
    "E02_er=math.radians(E0_er)\n",
    "E1_er=E0_er - (E0_er - (180/math.pi)*e_er*math.sin(E02_er)-M_er)/(1-e_er*math.cos(E02_er))\n",
    "E1_er=normalize(E1_er) \n",
    "E_er=math.radians(E1_er)\n",
    "x_er=a_er*(math.cos(E_er)-e_er)\n",
    "y_er=a_er*(math.sqrt(1 - e_er*e_er))*math.sin(E_er)\n",
    "\n",
    "r_er=math.sqrt(x_er*x_er+y_er*y_er)\n",
    "v_er=math.atan2(y_er, x_er)\n",
    "v_er=normalize(math.degrees(v_er))\n",
    "\n",
    "xereclipR=r_er*(math.cos(math.radians(N_er))*math.cos(math.radians(v_er+w_er)) - math.sin(math.radians(N_er))*math.sin(math.radians(v_er+w_er))*math.cos(math.radians(i_er)))\n",
    "yereclipR=r_er*(math.sin(math.radians(N_er))*math.cos(math.radians(v_er+w_er)) + math.cos(math.radians(N_er))*math.sin(math.radians(v_er+w_er))*math.cos(math.radians(i_er)))\n",
    "zereclipR=r_er*math.sin(math.radians(v_er+w_er))*math.sin(math.radians(i_er)) \n",
    "long2_erR = math.atan2( yereclipR, xereclipR )\n",
    "long2_erR=normalize(math.degrees(long2_erR))\n",
    "lat2_erR = math.atan2( zereclipR, math.sqrt( xereclipR*xereclipR +yereclipR*yereclipR ) )\n",
    "lat2_erR=math.degrees(lat2_erR)\n",
    "\n",
    "\n",
    "#Afroditi\n",
    "M2_af=math.radians(M_af)\n",
    "E0_af=M_af + (180/math.pi)*e_af*math.sin(M2_af)*(1+e_af*math.cos(M2_af))\n",
    "E0_af=normalize(E0_af) \n",
    "E02_af=math.radians(E0_af)\n",
    "E1_af=E0_af - (E0_af - (180/math.pi)*e_af*math.sin(E02_af)-M_af)/(1-e_af*math.cos(E02_af))\n",
    "E1_af=normalize(E1_af) \n",
    "E_af=math.radians(E1_af)\n",
    "x_af=a_af*(math.cos(E_af)-e_af)\n",
    "y_af=a_af*(math.sqrt(1 - e_af*e_af))*math.sin(E_af)\n",
    "\n",
    "r_af=math.sqrt(x_af*x_af+y_af*y_af)\n",
    "v_af=math.atan2(y_af, x_af)\n",
    "v_af=normalize(math.degrees(v_af))\n",
    "\n",
    "xafeclipR=r_af*(math.cos(math.radians(N_af))*math.cos(math.radians(v_af+w_af)) - math.sin(math.radians(N_af))*math.sin(math.radians(v_af+w_af))*math.cos(math.radians(i_af)))\n",
    "yafeclipR=r_af*(math.sin(math.radians(N_af))*math.cos(math.radians(v_af+w_af)) + math.cos(math.radians(N_af))*math.sin(math.radians(v_af+w_af))*math.cos(math.radians(i_af)))\n",
    "zafeclipR=r_af*math.sin(math.radians(v_af+w_af))*math.sin(math.radians(i_af)) \n",
    "long2_afR = math.atan2( yafeclipR, xafeclipR )\n",
    "long2_afR=normalize(math.degrees(long2_afR))\n",
    "lat2_afR = math.atan2( zafeclipR, math.sqrt( xafeclipR*xafeclipR +yafeclipR*yafeclipR ) )\n",
    "lat2_af=math.degrees(lat2_afR)\n",
    "\n",
    "\n",
    " #Aris\n",
    "M2_ar=math.radians(M_ar)\n",
    "E0_ar=M_ar + (180/math.pi)*e_ar*math.sin(M2_ar)*(1+e_ar*math.cos(M2_ar))\n",
    "E0_ar=normalize(E0_ar) \n",
    "E02_ar=math.radians(E0_ar)\n",
    "E1_ar=E0_ar - (E0_ar - (180/math.pi)*e_ar*math.sin(E02_ar)-M_ar)/(1-e_ar*math.cos(E02_ar))\n",
    "E1_ar=normalize(E1_ar) \n",
    "E_ar=math.radians(E1_ar)\n",
    "x_ar=a_ar*(math.cos(E_ar)-e_ar)\n",
    "y_ar=a_ar*(math.sqrt(1 - e_ar*e_ar))*math.sin(E_ar)\n",
    "#echo (x_ar.'<br>') \n",
    "#echo (y_ar.'<br>') \n",
    "r_ar=math.sqrt(x_ar*x_ar+y_ar*y_ar)\n",
    "v_ar=math.atan2(y_ar, x_ar)\n",
    "v_ar=normalize(math.degrees(v_ar))\n",
    "\n",
    "xareclipR=r_ar*(math.cos(math.radians(N_ar))*math.cos(math.radians(v_ar+w_ar)) - math.sin(math.radians(N_ar))*math.sin(math.radians(v_ar+w_ar))*math.cos(math.radians(i_ar)))\n",
    "yareclipR=r_ar*(math.sin(math.radians(N_ar))*math.cos(math.radians(v_ar+w_ar)) + math.cos(math.radians(N_ar))*math.sin(math.radians(v_ar+w_ar))*math.cos(math.radians(i_ar)))\n",
    "zareclipR=r_ar*math.sin(math.radians(v_ar+w_ar))*math.sin(math.radians(i_ar)) \n",
    "long2_arR = math.atan2( yareclipR, xareclipR )\n",
    "long2_arR=normalize(math.degrees(long2_arR))\n",
    "lat2_arR = math.atan2( zareclipR, math.sqrt( xareclipR*xareclipR +yareclipR*yareclipR ) )\n",
    "lat2_arR=math.degrees(lat2_arR)\n",
    "\n",
    "\n",
    "#Dias\n",
    "M2_di=math.radians(M_di)\n",
    "E0_di=M_di + (180/math.pi)*e_di*math.sin(M2_di)*(1+e_di*math.cos(M2_di))\n",
    "E0_di=normalize(E0_di) \n",
    "E02_di=math.radians(E0_di)\n",
    "E1_di=E0_di - (E0_di - (180/math.pi)*e_di*math.sin(E02_di)-M_di)/(1-e_di*math.cos(E02_di))\n",
    "E1_di=normalize(E1_di) \n",
    "E_di=math.radians(E1_di)\n",
    "x_di=a_di*(math.cos(E_di)-e_di)\n",
    "y_di=a_di*(math.sqrt(1 - e_di*e_di))*math.sin(E_di)\n",
    "\n",
    "r_di=math.sqrt(x_di*x_di+y_di*y_di)\n",
    "v_di=math.atan2(y_di, x_di)\n",
    "v_di=normalize(math.degrees(v_di))\n",
    "\n",
    "xdieclipR=r_di*(math.cos(math.radians(N_di))*math.cos(math.radians(v_di+w_di)) - math.sin(math.radians(N_di))*math.sin(math.radians(v_di+w_di))*math.cos(math.radians(i_di)))\n",
    "ydieclipR=r_di*(math.sin(math.radians(N_di))*math.cos(math.radians(v_di+w_di)) + math.cos(math.radians(N_di))*math.sin(math.radians(v_di+w_di))*math.cos(math.radians(i_di)))\n",
    "zdieclipR=r_di*math.sin(math.radians(v_di+w_di))*math.sin(math.radians(i_di)) \n",
    "long2_diR = math.atan2( ydieclipR, xdieclipR )\n",
    "long2_diR=normalize(math.degrees(long2_diR))\n",
    "lat2_diR = math.atan2( zdieclipR, math.sqrt( xdieclipR*xdieclipR +ydieclipR*ydieclipR ) )\n",
    "lat2_diR=math.degrees(lat2_diR)\n",
    "\n",
    "\n",
    " #Kronos\n",
    "M2_kr=math.radians(M_kr)\n",
    "E0_kr=M_kr + (180/math.pi)*e_kr*math.sin(M2_kr)*(1+e_kr*math.cos(M2_kr))\n",
    "E0_kr=normalize(E0_kr) \n",
    "E02_kr=math.radians(E0_kr)\n",
    "E1_kr=E0_kr - (E0_kr - (180/math.pi)*e_kr*math.sin(E02_kr)-M_kr)/(1-e_kr*math.cos(E02_kr))\n",
    "E1_kr=normalize(E1_kr) \n",
    "E_kr=math.radians(E1_kr)\n",
    "x_kr=a_kr*(math.cos(E_kr)-e_kr)\n",
    "y_kr=a_kr*(math.sqrt(1 - e_kr*e_kr))*math.sin(E_kr)\n",
    "\n",
    "r_kr=math.sqrt(x_kr*x_kr+y_kr*y_kr)\n",
    "v_kr=math.atan2(y_kr, x_kr)\n",
    "v_kr=normalize(math.degrees(v_kr))\n",
    "\n",
    "xkreclipR=r_kr*(math.cos(math.radians(N_kr))*math.cos(math.radians(v_kr+w_kr)) - math.sin(math.radians(N_kr))*math.sin(math.radians(v_kr+w_kr))*math.cos(math.radians(i_kr)))\n",
    "ykreclipR=r_kr*(math.sin(math.radians(N_kr))*math.cos(math.radians(v_kr+w_kr)) + math.cos(math.radians(N_kr))*math.sin(math.radians(v_kr+w_kr))*math.cos(math.radians(i_kr)))\n",
    "zkreclipR=r_kr*math.sin(math.radians(v_kr+w_kr))*math.sin(math.radians(i_kr)) \n",
    "long2_krR = math.atan2( ykreclipR, xkreclipR )\n",
    "long2_krR=normalize(math.degrees(long2_krR))\n",
    "lat2_krR = math.atan2( zkreclipR, math.sqrt( xkreclipR*xkreclipR +ykreclipR*ykreclipR ) )\n",
    "lat2_krR=math.degrees(lat2_krR)\n",
    "\n",
    "\n",
    "#Ouranos\n",
    "M2_ou=math.radians(M_ou)\n",
    "E0_ou=M_ou + (180/math.pi)*e_ou*math.sin(M2_ou)*(1+e_ou*math.cos(M2_ou))\n",
    "E0_ou=normalize(E0_ou) \n",
    "E02_ou=math.radians(E0_ou)\n",
    "E1_ou=E0_ou - (E0_ou - (180/math.pi)*e_ou*math.sin(E02_ou)-M_ou)/(1-e_ou*math.cos(E02_ou))\n",
    "E1_ou=normalize(E1_ou) \n",
    "E_ou=math.radians(E1_ou)\n",
    "x_ou=a_ou*(math.cos(E_ou)-e_ou)\n",
    "y_ou=a_ou*(math.sqrt(1 - e_ou*e_ou))*math.sin(E_ou)\n",
    "\n",
    "r_ou=math.sqrt(x_ou*x_ou+y_ou*y_ou)\n",
    "v_ou=math.atan2(y_ou, x_ou)\n",
    "v_ou=normalize(math.degrees(v_ou))\n",
    "\n",
    "xoueclipR=r_ou*(math.cos(math.radians(N_ou))*math.cos(math.radians(v_ou+w_ou)) - math.sin(math.radians(N_ou))*math.sin(math.radians(v_ou+w_ou))*math.cos(math.radians(i_ou)))\n",
    "youeclipR=r_ou*(math.sin(math.radians(N_ou))*math.cos(math.radians(v_ou+w_ou)) + math.cos(math.radians(N_ou))*math.sin(math.radians(v_ou+w_ou))*math.cos(math.radians(i_ou)))\n",
    "zoueclipR=r_ou*math.sin(math.radians(v_ou+w_ou))*math.sin(math.radians(i_ou)) \n",
    "long2_ouR = math.atan2( youeclipR, xoueclipR )\n",
    "long2_ouR=normalize(math.degrees(long2_ouR))\n",
    "lat2_ouR = math.atan2( zoueclipR, math.sqrt( xoueclipR*xoueclipR +youeclipR*youeclipR ) )\n",
    "lat2_ouR=math.degrees(lat2_ouR)\n",
    "\n",
    "\n",
    "#Poseidonas\n",
    "M2_po=math.radians(M_po)\n",
    "E0_po=M_po + (180/math.pi)*e_po*math.sin(M2_po)*(1+e_po*math.cos(M2_po))\n",
    "E0_po=normalize(E0_po) \n",
    "E02_po=math.radians(E0_po)\n",
    "E1_po=E0_po - (E0_po - (180/math.pi)*e_po*math.sin(E02_po)-M_po)/(1-e_po*math.cos(E02_po))\n",
    "E1_po=normalize(E1_po) \n",
    "E_po=math.radians(E1_po)\n",
    "x_po=a_po*(math.cos(E_po)-e_po)\n",
    "y_po=a_po*(math.sqrt(1 - e_po*e_po))*math.sin(E_po)\n",
    "\n",
    "r_po=math.sqrt(x_po*x_po+y_po*y_po)\n",
    "v_po=math.atan2(y_po, x_po)\n",
    "v_po=normalize(math.degrees(v_po))\n",
    "\n",
    "xpoeclipR=r_po*(math.cos(math.radians(N_po))*math.cos(math.radians(v_po+w_po)) - math.sin(math.radians(N_po))*math.sin(math.radians(v_po+w_po))*math.cos(math.radians(i_po)))\n",
    "ypoeclipR=r_po*(math.sin(math.radians(N_po))*math.cos(math.radians(v_po+w_po)) + math.cos(math.radians(N_po))*math.sin(math.radians(v_po+w_po))*math.cos(math.radians(i_po)))\n",
    "zpoeclipR=r_po*math.sin(math.radians(v_po+w_po))*math.sin(math.radians(i_po)) \n",
    "long2_poR = math.atan2( ypoeclipR, xpoeclipR )\n",
    "long2_poR=normalize(math.degrees(long2_poR))\n",
    "lat2_poR = math.atan2( zpoeclipR, math.sqrt( xpoeclipR*xpoeclipR +ypoeclipR*ypoeclipR ) )\n",
    "lat2_poR=math.degrees(lat2_poR)\n",
    "\n",
    "#Ceres\n",
    "M2_ce=math.radians(M_ce)\n",
    "E0_ce=M_ce + (180/math.pi)*e_ce*math.sin(M2_ce)*(1+e_ce*math.cos(M2_ce))\n",
    "E0_ce=normalize(E0_ce) \n",
    "E02_ce=math.radians(E0_ce)\n",
    "E1_ce=E0_ce - (E0_ce - (180/math.pi)*e_ce*math.sin(E02_ce)-M_ce)/(1-e_ce*math.cos(E02_ce))\n",
    "E1_ce=normalize(E1_ce) \n",
    "E_ce=math.radians(E1_ce)\n",
    "x_ce=a_ce*(math.cos(E_ce)-e_ce)\n",
    "y_ce=a_ce*(math.sqrt(1 - e_ce*e_ce))*math.sin(E_ce)\n",
    "#echo (x_ce.'<br>') \n",
    "#echo (y_ce.'<br>') \n",
    "r_ce=math.sqrt(x_ce*x_ce+y_ce*y_ce)\n",
    "v_ce=math.atan2(y_ce, x_ce)\n",
    "v_ce=normalize(math.degrees(v_ce))\n",
    "#echo (r_ce.'<br>') \n",
    "#echo (v_ce.'<br>') \n",
    "xceeclipR=r_ce*(math.cos(math.radians(N_ce))*math.cos(math.radians(v_ce+w_ce)) - math.sin(math.radians(N_ce))*math.sin(math.radians(v_ce+w_ce))*math.cos(math.radians(i_ce)))\n",
    "yceeclipR=r_ce*(math.sin(math.radians(N_ce))*math.cos(math.radians(v_ce+w_ce)) + math.cos(math.radians(N_ce))*math.sin(math.radians(v_ce+w_ce))*math.cos(math.radians(i_ce)))\n",
    "zceeclipR=r_ce*math.sin(math.radians(v_ce+w_ce))*math.sin(math.radians(i_ce)) \n",
    "long2_ceR = math.atan2( yceeclipR, xceeclipR )\n",
    "long2_ceR=normalize(math.degrees(long2_ceR))\n",
    "lat2_ceR = math.atan2( zceeclipR, math.sqrt( xceeclipR*xceeclipR +yceeclipR*yceeclipR ) )\n",
    "lat2_ceR=math.degrees(lat2_ceR)\n",
    "\n",
    "#Chiron\n",
    "M2_ch=math.radians(M_ch)\n",
    "E0_ch=M_ch + (180/math.pi)*e_ch*math.sin(M2_ch)*(1+e_ch*math.cos(M2_ch))\n",
    "E0_ch=normalize(E0_ch) \n",
    "E02_ch=math.radians(E0_ch)\n",
    "E1_ch=E0_ch - (E0_ch - (180/math.pi)*e_ch*math.sin(E02_ch)-M_ch)/(1-e_ch*math.cos(E02_ch))\n",
    "E1_ch=normalize(E1_ch) \n",
    "E_ch=math.radians(E1_ch)\n",
    "x_ch=a_ch*(math.cos(E_ch)-e_ch)\n",
    "y_ch=a_ch*(math.sqrt(1 - e_ch*e_ch))*math.sin(E_ch)\n",
    "#echo (x_ch.'<br>') \n",
    "#echo (y_ch.'<br>') \n",
    "r_ch=math.sqrt(x_ch*x_ch+y_ch*y_ch)\n",
    "v_ch=math.atan2(y_ch, x_ch)\n",
    "v_ch=normalize(math.degrees(v_ch))\n",
    "#echo (r_ch.'<br>') \n",
    "#echo (v_ch.'<br>') \n",
    "xcheclipR=r_ch*(math.cos(math.radians(N_ch))*math.cos(math.radians(v_ch+w_ch)) - math.sin(math.radians(N_ch))*math.sin(math.radians(v_ch+w_ch))*math.cos(math.radians(i_ch)))\n",
    "ycheclipR=r_ch*(math.sin(math.radians(N_ch))*math.cos(math.radians(v_ch+w_ch)) + math.cos(math.radians(N_ch))*math.sin(math.radians(v_ch+w_ch))*math.cos(math.radians(i_ch)))\n",
    "zcheclipR=r_ch*math.sin(math.radians(v_ch+w_ch))*math.sin(math.radians(i_ch)) \n",
    "long2_chR = math.atan2( ycheclipR, xcheclipR )\n",
    "long2_chR=normalize(math.degrees(long2_chR))\n",
    "lat2_chR = math.atan2( zcheclipR, math.sqrt( xcheclipR*xcheclipR +ycheclipR*ycheclipR ) )\n",
    "lat2_chR=math.degrees(lat2_chR)\n",
    "\n",
    "#Eris\n",
    "M2_pe=math.radians(M_pe)\n",
    "E0_pe=M_pe + (180/math.pi)*e_pe*math.sin(M2_pe)*(1+e_pe*math.cos(M2_pe))\n",
    "E0_pe=normalize(E0_pe) \n",
    "E02_pe=math.radians(E0_pe)\n",
    "E1_pe=E0_pe - (E0_pe - (180/math.pi)*e_pe*math.sin(E02_pe)-M_pe)/(1-e_pe*math.cos(E02_pe))\n",
    "E1_pe=normalize(E1_pe) \n",
    "E_pe=math.radians(E1_pe)\n",
    "x_pe=a_pe*(math.cos(E_pe)-e_pe)\n",
    "y_pe=a_pe*(math.sqrt(1 - e_pe*e_pe))*math.sin(E_pe)\n",
    "#echo (x_pe.'<br>') \n",
    "#echo (y_pe.'<br>') \n",
    "r_pe=math.sqrt(x_pe*x_pe+y_pe*y_pe)\n",
    "v_pe=math.atan2(y_pe, x_pe)\n",
    "v_pe=normalize(math.degrees(v_pe))\n",
    "#echo (r_pe.'<br>') \n",
    "#echo (v_pe.'<br>') \n",
    "xpeeclipR=r_pe*(math.cos(math.radians(N_pe))*math.cos(math.radians(v_pe+w_pe)) - math.sin(math.radians(N_pe))*math.sin(math.radians(v_pe+w_pe))*math.cos(math.radians(i_pe)))\n",
    "ypeeclipR=r_pe*(math.sin(math.radians(N_pe))*math.cos(math.radians(v_pe+w_pe)) + math.cos(math.radians(N_pe))*math.sin(math.radians(v_pe+w_pe))*math.cos(math.radians(i_pe)))\n",
    "zpeeclipR=r_pe*math.sin(math.radians(v_pe+w_pe))*math.sin(math.radians(i_pe)) \n",
    "long2_peR = math.atan2( ypeeclipR, xpeeclipR )\n",
    "long2_peR=normalize(math.degrees(long2_peR))\n",
    "lat2_peR = math.atan2( zpeeclipR, math.sqrt( xpeeclipR*xpeeclipR +ypeeclipR*ypeeclipR ) )\n",
    "lat2_peR=math.degrees(lat2_peR)\n",
    "\n",
    "\n",
    "#ploutonas\n",
    "S_pl  = math.radians(  50.03  +  0.033459652 * d)\n",
    "P_pl  = math.radians( 238.95  +  0.003968789 * d)\n",
    "\n",
    "long2_plR = (238.9508  +  0.00400703 * d\n",
    "      \t\t - 19.799 * math.sin(P_pl) + 19.848 * math.cos(P_pl) + 0.897 * math.sin(2*P_pl)\n",
    "      \t\t - 4.956 * math.cos(2*P_pl) + 0.610 * math.sin(3*P_pl)\n",
    "      \t\t + 1.211 * math.cos(3*P_pl) - 0.341 * math.sin(4*P_pl)\n",
    "      \t\t - 0.190 * math.cos(4*P_pl) + 0.128 * math.sin(5*P_pl)\n",
    "      \t\t - 0.034 * math.cos(5*P_pl) - 0.038 * math.sin(6*P_pl)\n",
    "      \t\t + 0.031 * math.cos(6*P_pl) + 0.020 * math.sin(S_pl - P_pl) \n",
    "      \t\t - 0.010 * math.cos(S_pl - P_pl) )\n",
    "lat2_plR = ( -3.9082 - 5.453 * math.sin(P_pl) - 14.975 * math.cos(P_pl)\n",
    "  \t\t\t\t+ 3.527 * math.sin(2*P_pl) + 1.673 * math.cos(2*P_pl)\n",
    "\t\t\t\t- 1.051 * math.sin(3*P_pl) + 0.328 * math.cos(3*P_pl)\n",
    "\t\t\t\t+ 0.179 * math.sin(4*P_pl) - 0.292 * math.cos(4*P_pl)\n",
    "\t\t\t\t+ 0.019 * math.sin(5*P_pl) + 0.100 * math.cos(5*P_pl)\n",
    "\t\t\t\t- 0.031 * math.sin(6*P_pl) - 0.026 * math.cos(6*P_pl)\n",
    "\t\t\t\t+ 0.011 * math.cos(S_pl - P_pl) )\n",
    "r_plR = ( 40.72 + 6.68 * math.sin(P_pl) + 6.90 * math.cos(P_pl)\n",
    "  \t\t\t- 1.18 * math.sin(2*P_pl) - 0.03 * math.cos(2*P_pl)\n",
    "      \t+ 0.15 * math.sin(3*P_pl) - 0.14 * math.cos(3*P_pl))\n",
    "\n",
    "long2_plR=math.radians(long2_plR)\n",
    "lat2_plR=math.radians(lat2_plR)\n",
    "x_plR = r_plR * math.cos(long2_plR) * math.cos(lat2_plR) #eclip\n",
    "y_plR = r_plR * math.sin(long2_plR) * math.cos(lat2_plR)\n",
    "z_plR = r_plR * math.sin(lat2_plR)\n",
    "\n",
    "x_geoc_plR = x_plR + x2R  \n",
    "y_geoc_plR = y_plR + y2R  \n",
    "z_geoc_plR = z_plR + z2R\n",
    " \n",
    "RA_pl_eclipR = math.atan2(y_geoc_plR, x_geoc_plR)\n",
    "RA_pl_eclipR=normalize(math.degrees(RA_pl_eclipR))  \n",
    "\n",
    "\n",
    "  \n",
    "#megaliteri akriveia - Diataraxes \n",
    "\"\"\"/* \n",
    "M2_di=normalize(M2_di)\n",
    "M2_kr=normalize(M2_kr)\n",
    "M2_ou=normalize(M2_ou)\n",
    "#echo (M_di.'<br>')  \n",
    "#echo (M_kr.'<br>') \n",
    "#echo (M_ou.'<br>') \n",
    "#diataraxes pou tha prostethoun sto geogr. mikos tou DIA\n",
    "di2_diat1=-0.332*math.sin(math.radians(2*M2_di - 5 * M2_kr - 67.6))\n",
    "di2_diat2=-0.056*math.sin(math.radians(2*M2_di - 2 * M2_kr +21))\n",
    "di2_diat3=0.042*math.sin(math.radians(3*M2_di - 5 * M2_kr +21))\n",
    "di2_diat4=-0.036*math.sin(math.radians(M2_di - 2 * M2_kr))\n",
    "di2_diat5=0.022*math.cos(math.radians(M2_di - M2_kr))\n",
    "di2_diat6=0.023*math.sin(math.radians(2*M2_di - 3 * M2_kr + 52))\n",
    "di2_diat7=-0.016*math.sin(math.radians(M2_di - 5 * M2_kr - 69))\n",
    "#diataraxes pou tha prostethoun sto geogr. mikos tou Kronou\n",
    "kr2_diat1=0.812*math.sin(math.radians(2*M2_di - 5 * M2_kr - 67.6))\n",
    "kr2_diat2=-0.229*math.cos(math.radians(2*M2_di - 4 * M2_kr -2))\n",
    "kr2_diat3=0.119*math.sin(math.radians(M2_di - 2 * M2_kr - 3))\n",
    "kr2_diat4=0.046*math.sin(math.radians(2*M2_di - 6 * M2_kr - 69))\n",
    "kr2_diat5=0.014*math.sin(math.radians(M2_di - 3* M2_kr + 32))\n",
    "#diataraxes pou tha prostethoun sto geogr. PLATOS tou Kronou\n",
    "kr2_diat6=-0.02*math.cos(math.radians(2*M2_di - 4 * M2_kr - 2))\n",
    "kr2_diat7=0.018*math.sin(math.radians(2*M2_di - 6 * M2_kr - 49))\n",
    "#diataraxes pou tha prostethoun sto geogr. mikos tou Ouranou\n",
    "ou2_diat1=0.04*math.sin(math.radians(M2_kr - 2 * M2_ou + 6))\n",
    "ou2_diat2=0.035*math.sin(math.radians(M2_kr - 3 * M2_ou + 33))\n",
    "ou2_diat3=-0.015*math.sin(math.radians(M2_di - M2_ou +20))\n",
    "\n",
    "diataraxes_long_di2=(di2_diat1 + di2_diat2 + di2_diat3 + di2_diat4 + di2_diat5 + di2_diat6 + di2_diat7)\n",
    "diataraxes_long_kr2=(kr2_diat1 + kr2_diat2 + kr2_diat3 + kr2_diat4 + kr2_diat5)\n",
    "diataraxes_lat_kr2=(kr2_diat6 + kr2_diat7)\n",
    "diataraxes_long_ou2=(ou2_diat1 + ou2_diat2 + ou2_diat3)\n",
    "#echo (diataraxes_long_di.'<br>') \n",
    "#echo (diataraxes_long_kr.'<br>') \n",
    "#echo (diataraxes_lat_kr.'<br>') \n",
    "#echo (diataraxes_long_ou.'<br>') \n",
    "*/\"\"\"\n",
    "#diorthomenes times gia dia krono kai ourano\n",
    "long2_diR=long2_diR + diataraxes_long_di\n",
    "long2_krR=long2_krR + diataraxes_long_kr\n",
    "lat2_krR=lat2_krR + diataraxes_lat_kr\n",
    "long2_ouR=long2_ouR + diataraxes_long_ou\n",
    "\n",
    "long2_diR=(math.radians(long2_diR))\n",
    "lat2_diR=(math.radians(lat2_diR))\n",
    "long2_krR=(math.radians(long2_krR))\n",
    "lat2_krR=(math.radians(lat2_krR))\n",
    "long2_ouR=(math.radians(long2_ouR)) \n",
    "lat2_ouR=(math.radians(lat2_ouR))  \n",
    "\n",
    "#upologizoume ena neo xdieclip math.sinipologizontas tis diataraxes\n",
    "xdieclipR = r_di * math.cos(long2_diR) * math.cos(lat2_diR)  \n",
    "ydieclipR = r_di * math.sin(long2_diR) * math.cos(lat2_diR) \n",
    "zdieclipR = r_di * math.sin(lat2_diR)\n",
    "xkreclipR = r_kr * math.cos(long2_krR) * math.cos(lat2_krR)  \n",
    "ykreclipR = r_kr * math.sin(long2_krR) * math.cos(lat2_krR) \n",
    "zkreclipR = r_kr * math.sin(lat2_krR)\n",
    "xoueclipR = r_ou * math.cos(long2_ouR) * math.cos(lat2_ouR)  \n",
    "youeclipR = r_ou * math.sin(long2_ouR) * math.cos(lat2_ouR) \n",
    "zoueclipR = r_ou * math.sin(lat2_ouR)  \n",
    "\n",
    "\n",
    "#metaptosi ?????????????????????????????????????????????????\n",
    "#Geokentrikes theseis planiton\n",
    "#prosthetoume tin thesi tou iliou sti thesi ton planiton\n",
    "#gia ton ermi, pairnoume\n",
    "x_geoc_erR=(x2R+xereclipR)\n",
    "y_geoc_erR=(y2R+yereclipR)\n",
    "z_geoc_erR=(z2R+zereclipR)\n",
    "\n",
    "RA_er_eclipR=math.atan2(y_geoc_erR, x_geoc_erR)\n",
    "RA_er_eclipR=normalize(math.degrees(RA_er_eclipR))\n",
    "\n",
    "\n",
    "#Afroditi\n",
    "x_geoc_afR=(x2R+xafeclipR)\n",
    "y_geoc_afR=(y2R+yafeclipR)\n",
    "z_geoc_afR=(z2R+zafeclipR)\n",
    "\n",
    "RA_af_eclipR=math.atan2(y_geoc_afR, x_geoc_afR)\n",
    "RA_af_eclipR=normalize(math.degrees(RA_af_eclipR))\n",
    " \n",
    "\n",
    "#Aris\n",
    "x_geoc_arR=(x2R+xareclipR)\n",
    "y_geoc_arR=(y2R+yareclipR)\n",
    "z_geoc_arR=(z2R+zareclipR)\n",
    "\n",
    "RA_ar_eclipR=math.atan2(y_geoc_arR, x_geoc_arR)\n",
    "RA_ar_eclipR=normalize(math.degrees(RA_ar_eclipR))\n",
    "\n",
    " #Dias\n",
    "x_geoc_diR=(x2R+xdieclipR)\n",
    "y_geoc_diR=(y2R+ydieclipR)\n",
    "z_geoc_diR=(z2R+zdieclipR)\n",
    "\n",
    "RA_di_eclipR=math.atan2(y_geoc_diR, x_geoc_diR)\n",
    "RA_di_eclipR=normalize(math.degrees(RA_di_eclipR))\n",
    "\n",
    "\n",
    "#Kronos\n",
    "x_geoc_krR=(x2R+xkreclipR)\n",
    "y_geoc_krR=(y2R+ykreclipR)\n",
    "z_geoc_krR=(z2R+zkreclipR)\n",
    "\n",
    "RA_kr_eclipR=math.atan2(y_geoc_krR, x_geoc_krR)\n",
    "RA_kr_eclipR=normalize(math.degrees(RA_kr_eclipR))\n",
    "\n",
    "\n",
    "#Ouranos\n",
    "x_geoc_ouR=(x2R+xoueclipR)\n",
    "y_geoc_ouR=(y2R+youeclipR)\n",
    "z_geoc_ouR=(z2R+zoueclipR)\n",
    "RA_ou_eclipR=math.atan2(y_geoc_ouR, x_geoc_ouR)\n",
    "RA_ou_eclipR=normalize(math.degrees(RA_ou_eclipR))\n",
    "\n",
    "#Poseidonas\n",
    "x_geoc_poR=(x2R+xpoeclipR)\n",
    "y_geoc_poR=(y2R+ypoeclipR)\n",
    "z_geoc_poR=(z2R+zpoeclipR)\n",
    "\n",
    "RA_po_eclipR=math.atan2(y_geoc_poR, x_geoc_poR)\n",
    "RA_po_eclipR=normalize(math.degrees(RA_po_eclipR))\n",
    "\n",
    "\n",
    "#Ceres\n",
    "x_geoc_ceR=(x2R+xceeclipR)\n",
    "y_geoc_ceR=(y2R+yceeclipR)\n",
    "z_geoc_ceR=(z2R+zceeclipR)\n",
    "\n",
    "RA_ce_eclipR=math.atan2(y_geoc_ceR, x_geoc_ceR)\n",
    "RA_ce_eclipR=normalize(math.degrees(RA_ce_eclipR))\n",
    "\n",
    "#Chiron\n",
    "x_geoc_chR=(x2R+xcheclipR)\n",
    "y_geoc_chR=(y2R+ycheclipR)\n",
    "z_geoc_chR=(z2R+zcheclipR)\n",
    "\n",
    "RA_ch_eclipR=math.atan2(y_geoc_chR, x_geoc_chR)\n",
    "RA_ch_eclipR=normalize(math.degrees(RA_ch_eclipR))\n",
    "\n",
    "#Eris\n",
    "x_geoc_peR=(x2R+xpeeclipR)\n",
    "y_geoc_peR=(y2R+ypeeclipR)\n",
    "z_geoc_peR=(z2R+zpeeclipR)\n",
    "\n",
    "RA_pe_eclipR=math.atan2(y_geoc_peR, x_geoc_peR)\n",
    "RA_pe_eclipR=normalize(math.degrees(RA_pe_eclipR))\n",
    "\n",
    "\n",
    "\n",
    "\n",
    "#Retrogate=\"  \" \n",
    "\n",
    "R_er=\"  \"\n",
    "if (((RA_er_eclipR - RA_er_eclip) > 358)or(((RA_er_eclipR - RA_er_eclip) < 0)and((RA_er_eclip - RA_er_eclipR) < 180))):\n",
    "    R_er=\" R\" \n",
    "R_af=\"  \"\n",
    "if (((RA_af_eclipR - RA_af_eclip) > 358)or(((RA_af_eclipR - RA_af_eclip) < 0)and((RA_af_eclip - RA_af_eclipR) < 180))):\n",
    "    R_af=\" R\" \n",
    "R_ar=\"  \"\n",
    "if (((RA_ar_eclipR - RA_ar_eclip) > 358)or(((RA_ar_eclipR - RA_ar_eclip) < 0)and((RA_ar_eclip - RA_ar_eclipR) < 180))):\n",
    "    R_ar=\" R\" \n",
    "R_di=\"  \"\n",
    "if (((RA_di_eclipR - RA_di_eclip) > 358)or(((RA_di_eclipR - RA_di_eclip) < 0)and((RA_di_eclip - RA_di_eclipR) < 180))):\n",
    "    R_di=\" R\" \n",
    "R_kr=\"  \"\n",
    "if (((RA_kr_eclipR - RA_kr_eclip) > 358)or(((RA_kr_eclipR - RA_kr_eclip) < 0)and((RA_kr_eclip - RA_kr_eclipR) < 180))):\n",
    "    R_kr=\" R\" \n",
    "R_ou=\"  \"\n",
    "if (((RA_ou_eclipR - RA_ou_eclip) > 358)or(((RA_ou_eclipR - RA_ou_eclip) < 0)and((RA_ou_eclip - RA_ou_eclipR) < 180))):\n",
    "    R_ou=\" R\" \n",
    "R_po=\"  \"\n",
    "if (((RA_po_eclipR - RA_po_eclip) > 358)or(((RA_po_eclipR - RA_po_eclip) < 0)and((RA_po_eclip - RA_po_eclipR) < 180))):\n",
    "    R_po=\" R\" \n",
    "RR_pl=\"  \"\n",
    "if (((RA_pl_eclipR - RA_pl_eclip) > 358)or(((RA_pl_eclipR - RA_pl_eclip) < 0)and((RA_pl_eclip - RA_pl_eclipR) < 180))):\n",
    "    RR_pl=\" R\" \n",
    "R_ce=\"  \"\n",
    "if (((RA_ce_eclipR - RA_ce_eclip) > 358)or(((RA_ce_eclipR - RA_ce_eclip) < 0)and((RA_ce_eclip - RA_ce_eclipR) < 180))):\n",
    "    R_ce=\" R\"\n",
    "R_ch=\"  \"\n",
    "if (((RA_ch_eclipR - RA_ch_eclip) > 358)or(((RA_ch_eclipR - RA_ch_eclip) < 0)and((RA_ch_eclip - RA_ch_eclipR) < 180))):\n",
    "    R_ch=\" R\"\n",
    "R_pe=\"  \"\n",
    "if (((RA_pe_eclipR - RA_pe_eclip) > 358)or(((RA_pe_eclipR - RA_pe_eclip) < 0)and((RA_pe_eclip - RA_pe_eclipR) < 180))):\n",
    "    R_pe=\" R\"\n",
    "    \n"
   ]
  }
 ],
 "metadata": {
  "kernelspec": {
   "display_name": "Python 3",
   "language": "python",
   "name": "python3"
  },
  "language_info": {
   "codemirror_mode": {
    "name": "ipython",
    "version": 3
   },
   "file_extension": ".py",
   "mimetype": "text/x-python",
   "name": "python",
   "nbconvert_exporter": "python",
   "pygments_lexer": "ipython3",
   "version": "3.6.6"
  }
 },
 "nbformat": 4,
 "nbformat_minor": 2
}
